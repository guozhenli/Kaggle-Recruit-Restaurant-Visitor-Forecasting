{
 "cells": [
  {
   "cell_type": "markdown",
   "metadata": {},
   "source": [
    "# Modeling"
   ]
  },
  {
   "cell_type": "markdown",
   "metadata": {
    "toc": true
   },
   "source": [
    "<h1>Table of Contents<span class=\"tocSkip\"></span></h1>\n",
    "<div class=\"toc\" style=\"margin-top: 1em;\"><ul class=\"toc-item\"><li><span><a href=\"#Load-Data-from-Pickle-Files\" data-toc-modified-id=\"Load-Data-from-Pickle-Files-1\"><span class=\"toc-item-num\">1&nbsp;&nbsp;</span>Load Data from Pickle Files</a></span></li><li><span><a href=\"#XGBoost-Trial-Run\" data-toc-modified-id=\"XGBoost-Trial-Run-2\"><span class=\"toc-item-num\">2&nbsp;&nbsp;</span>XGBoost Trial Run</a></span><ul class=\"toc-item\"><li><span><a href=\"#Split-past-and-future-data\" data-toc-modified-id=\"Split-past-and-future-data-2.1\"><span class=\"toc-item-num\">2.1&nbsp;&nbsp;</span>Split <code>past</code> and <code>future</code> data</a></span></li><li><span><a href=\"#Split-train-and-validation-data\" data-toc-modified-id=\"Split-train-and-validation-data-2.2\"><span class=\"toc-item-num\">2.2&nbsp;&nbsp;</span>Split train and validation data</a></span></li><li><span><a href=\"#Train-XGB-model\" data-toc-modified-id=\"Train-XGB-model-2.3\"><span class=\"toc-item-num\">2.3&nbsp;&nbsp;</span>Train XGB model</a></span></li><li><span><a href=\"#Feature-importance\" data-toc-modified-id=\"Feature-importance-2.4\"><span class=\"toc-item-num\">2.4&nbsp;&nbsp;</span>Feature importance</a></span></li><li><span><a href=\"#Create-a-submission\" data-toc-modified-id=\"Create-a-submission-2.5\"><span class=\"toc-item-num\">2.5&nbsp;&nbsp;</span>Create a submission</a></span></li></ul></li></ul></div>"
   ]
  },
  {
   "cell_type": "code",
   "execution_count": 1,
   "metadata": {
    "collapsed": true
   },
   "outputs": [],
   "source": [
    "import pandas as pd\n",
    "import numpy as np\n",
    "import matplotlib.pyplot as plt\n",
    "%matplotlib inline"
   ]
  },
  {
   "cell_type": "markdown",
   "metadata": {},
   "source": [
    "## Load Data from Pickle Files"
   ]
  },
  {
   "cell_type": "code",
   "execution_count": 2,
   "metadata": {
    "collapsed": true
   },
   "outputs": [],
   "source": [
    "import pickle\n",
    "with open('scratch/variables.pkl', 'rb') as f:\n",
    "    (cat_cols, num_cols, bin_cols, id_col, target_col, \n",
    "    cat2int_cols, cat2int_encoders, cat2onehot_cols, \n",
    "    cat2onehot_sparse) = pickle.load(f)"
   ]
  },
  {
   "cell_type": "code",
   "execution_count": 3,
   "metadata": {
    "collapsed": true
   },
   "outputs": [],
   "source": [
    "full = pd.read_pickle('scratch/full_engineered.pkl')"
   ]
  },
  {
   "cell_type": "markdown",
   "metadata": {},
   "source": [
    "## XGBoost Trial Run"
   ]
  },
  {
   "cell_type": "markdown",
   "metadata": {},
   "source": [
    "Just use the numeric columns and integer-encoded categoricals..."
   ]
  },
  {
   "cell_type": "code",
   "execution_count": 4,
   "metadata": {
    "collapsed": true
   },
   "outputs": [],
   "source": [
    "use_cols = num_cols + cat2int_cols"
   ]
  },
  {
   "cell_type": "markdown",
   "metadata": {},
   "source": [
    "### Split `past` and `future` data"
   ]
  },
  {
   "cell_type": "code",
   "execution_count": 5,
   "metadata": {
    "scrolled": false
   },
   "outputs": [
    {
     "name": "stdout",
     "output_type": "stream",
     "text": [
      "Past data set:\n"
     ]
    },
    {
     "data": {
      "text/plain": [
       "(252108, 51)"
      ]
     },
     "metadata": {},
     "output_type": "display_data"
    },
    {
     "data": {
      "text/html": [
       "<div>\n",
       "<style scoped>\n",
       "    .dataframe tbody tr th:only-of-type {\n",
       "        vertical-align: middle;\n",
       "    }\n",
       "\n",
       "    .dataframe tbody tr th {\n",
       "        vertical-align: top;\n",
       "    }\n",
       "\n",
       "    .dataframe thead th {\n",
       "        text-align: right;\n",
       "    }\n",
       "</style>\n",
       "<table border=\"1\" class=\"dataframe\">\n",
       "  <thead>\n",
       "    <tr style=\"text-align: right;\">\n",
       "      <th></th>\n",
       "      <th>dataset</th>\n",
       "      <th>air_store_id</th>\n",
       "      <th>id</th>\n",
       "      <th>visit_date</th>\n",
       "      <th>visitors</th>\n",
       "      <th>weekday</th>\n",
       "      <th>year</th>\n",
       "      <th>month</th>\n",
       "      <th>day_of_year</th>\n",
       "      <th>days_in_month</th>\n",
       "      <th>...</th>\n",
       "      <th>air_genre_name_int</th>\n",
       "      <th>air_area_name_int</th>\n",
       "      <th>hpg_genre_name_int</th>\n",
       "      <th>hpg_area_name_int</th>\n",
       "      <th>Todofuken_int</th>\n",
       "      <th>city_int</th>\n",
       "      <th>street_int</th>\n",
       "      <th>area_genre_int</th>\n",
       "      <th>store_weekday_int</th>\n",
       "      <th>store_weekday_holiday_int</th>\n",
       "    </tr>\n",
       "  </thead>\n",
       "  <tbody>\n",
       "    <tr>\n",
       "      <th>0</th>\n",
       "      <td>past</td>\n",
       "      <td>air_ba937bf13d40fb24</td>\n",
       "      <td>air_ba937bf13d40fb24_2016-01-13</td>\n",
       "      <td>2016-01-13</td>\n",
       "      <td>25</td>\n",
       "      <td>2</td>\n",
       "      <td>2016</td>\n",
       "      <td>1</td>\n",
       "      <td>13</td>\n",
       "      <td>31</td>\n",
       "      <td>...</td>\n",
       "      <td>4</td>\n",
       "      <td>62</td>\n",
       "      <td>16</td>\n",
       "      <td>31</td>\n",
       "      <td>7</td>\n",
       "      <td>29</td>\n",
       "      <td>77</td>\n",
       "      <td>144</td>\n",
       "      <td>4222</td>\n",
       "      <td>7860</td>\n",
       "    </tr>\n",
       "    <tr>\n",
       "      <th>1</th>\n",
       "      <td>past</td>\n",
       "      <td>air_ba937bf13d40fb24</td>\n",
       "      <td>air_ba937bf13d40fb24_2016-01-14</td>\n",
       "      <td>2016-01-14</td>\n",
       "      <td>32</td>\n",
       "      <td>3</td>\n",
       "      <td>2016</td>\n",
       "      <td>1</td>\n",
       "      <td>14</td>\n",
       "      <td>31</td>\n",
       "      <td>...</td>\n",
       "      <td>4</td>\n",
       "      <td>62</td>\n",
       "      <td>16</td>\n",
       "      <td>31</td>\n",
       "      <td>7</td>\n",
       "      <td>29</td>\n",
       "      <td>77</td>\n",
       "      <td>144</td>\n",
       "      <td>4223</td>\n",
       "      <td>7862</td>\n",
       "    </tr>\n",
       "    <tr>\n",
       "      <th>2</th>\n",
       "      <td>past</td>\n",
       "      <td>air_ba937bf13d40fb24</td>\n",
       "      <td>air_ba937bf13d40fb24_2016-01-15</td>\n",
       "      <td>2016-01-15</td>\n",
       "      <td>29</td>\n",
       "      <td>4</td>\n",
       "      <td>2016</td>\n",
       "      <td>1</td>\n",
       "      <td>15</td>\n",
       "      <td>31</td>\n",
       "      <td>...</td>\n",
       "      <td>4</td>\n",
       "      <td>62</td>\n",
       "      <td>16</td>\n",
       "      <td>31</td>\n",
       "      <td>7</td>\n",
       "      <td>29</td>\n",
       "      <td>77</td>\n",
       "      <td>144</td>\n",
       "      <td>4224</td>\n",
       "      <td>7864</td>\n",
       "    </tr>\n",
       "    <tr>\n",
       "      <th>3</th>\n",
       "      <td>past</td>\n",
       "      <td>air_ba937bf13d40fb24</td>\n",
       "      <td>air_ba937bf13d40fb24_2016-01-16</td>\n",
       "      <td>2016-01-16</td>\n",
       "      <td>22</td>\n",
       "      <td>5</td>\n",
       "      <td>2016</td>\n",
       "      <td>1</td>\n",
       "      <td>16</td>\n",
       "      <td>31</td>\n",
       "      <td>...</td>\n",
       "      <td>4</td>\n",
       "      <td>62</td>\n",
       "      <td>16</td>\n",
       "      <td>31</td>\n",
       "      <td>7</td>\n",
       "      <td>29</td>\n",
       "      <td>77</td>\n",
       "      <td>144</td>\n",
       "      <td>4225</td>\n",
       "      <td>7866</td>\n",
       "    </tr>\n",
       "    <tr>\n",
       "      <th>4</th>\n",
       "      <td>past</td>\n",
       "      <td>air_ba937bf13d40fb24</td>\n",
       "      <td>air_ba937bf13d40fb24_2016-01-18</td>\n",
       "      <td>2016-01-18</td>\n",
       "      <td>6</td>\n",
       "      <td>0</td>\n",
       "      <td>2016</td>\n",
       "      <td>1</td>\n",
       "      <td>18</td>\n",
       "      <td>31</td>\n",
       "      <td>...</td>\n",
       "      <td>4</td>\n",
       "      <td>62</td>\n",
       "      <td>16</td>\n",
       "      <td>31</td>\n",
       "      <td>7</td>\n",
       "      <td>29</td>\n",
       "      <td>77</td>\n",
       "      <td>144</td>\n",
       "      <td>4220</td>\n",
       "      <td>7858</td>\n",
       "    </tr>\n",
       "  </tbody>\n",
       "</table>\n",
       "<p>5 rows × 51 columns</p>\n",
       "</div>"
      ],
      "text/plain": [
       "  dataset          air_store_id                               id visit_date  \\\n",
       "0    past  air_ba937bf13d40fb24  air_ba937bf13d40fb24_2016-01-13 2016-01-13   \n",
       "1    past  air_ba937bf13d40fb24  air_ba937bf13d40fb24_2016-01-14 2016-01-14   \n",
       "2    past  air_ba937bf13d40fb24  air_ba937bf13d40fb24_2016-01-15 2016-01-15   \n",
       "3    past  air_ba937bf13d40fb24  air_ba937bf13d40fb24_2016-01-16 2016-01-16   \n",
       "4    past  air_ba937bf13d40fb24  air_ba937bf13d40fb24_2016-01-18 2016-01-18   \n",
       "\n",
       "   visitors  weekday  year  month  day_of_year  days_in_month  \\\n",
       "0        25        2  2016      1           13             31   \n",
       "1        32        3  2016      1           14             31   \n",
       "2        29        4  2016      1           15             31   \n",
       "3        22        5  2016      1           16             31   \n",
       "4         6        0  2016      1           18             31   \n",
       "\n",
       "             ...             air_genre_name_int  air_area_name_int  \\\n",
       "0            ...                              4                 62   \n",
       "1            ...                              4                 62   \n",
       "2            ...                              4                 62   \n",
       "3            ...                              4                 62   \n",
       "4            ...                              4                 62   \n",
       "\n",
       "   hpg_genre_name_int  hpg_area_name_int Todofuken_int city_int  street_int  \\\n",
       "0                  16                 31             7       29          77   \n",
       "1                  16                 31             7       29          77   \n",
       "2                  16                 31             7       29          77   \n",
       "3                  16                 31             7       29          77   \n",
       "4                  16                 31             7       29          77   \n",
       "\n",
       "   area_genre_int store_weekday_int store_weekday_holiday_int  \n",
       "0             144              4222                      7860  \n",
       "1             144              4223                      7862  \n",
       "2             144              4224                      7864  \n",
       "3             144              4225                      7866  \n",
       "4             144              4220                      7858  \n",
       "\n",
       "[5 rows x 51 columns]"
      ]
     },
     "metadata": {},
     "output_type": "display_data"
    },
    {
     "name": "stdout",
     "output_type": "stream",
     "text": [
      "Future data set:\n"
     ]
    },
    {
     "data": {
      "text/plain": [
       "(32019, 51)"
      ]
     },
     "metadata": {},
     "output_type": "display_data"
    },
    {
     "data": {
      "text/html": [
       "<div>\n",
       "<style scoped>\n",
       "    .dataframe tbody tr th:only-of-type {\n",
       "        vertical-align: middle;\n",
       "    }\n",
       "\n",
       "    .dataframe tbody tr th {\n",
       "        vertical-align: top;\n",
       "    }\n",
       "\n",
       "    .dataframe thead th {\n",
       "        text-align: right;\n",
       "    }\n",
       "</style>\n",
       "<table border=\"1\" class=\"dataframe\">\n",
       "  <thead>\n",
       "    <tr style=\"text-align: right;\">\n",
       "      <th></th>\n",
       "      <th>dataset</th>\n",
       "      <th>air_store_id</th>\n",
       "      <th>id</th>\n",
       "      <th>visit_date</th>\n",
       "      <th>visitors</th>\n",
       "      <th>weekday</th>\n",
       "      <th>year</th>\n",
       "      <th>month</th>\n",
       "      <th>day_of_year</th>\n",
       "      <th>days_in_month</th>\n",
       "      <th>...</th>\n",
       "      <th>air_genre_name_int</th>\n",
       "      <th>air_area_name_int</th>\n",
       "      <th>hpg_genre_name_int</th>\n",
       "      <th>hpg_area_name_int</th>\n",
       "      <th>Todofuken_int</th>\n",
       "      <th>city_int</th>\n",
       "      <th>street_int</th>\n",
       "      <th>area_genre_int</th>\n",
       "      <th>store_weekday_int</th>\n",
       "      <th>store_weekday_holiday_int</th>\n",
       "    </tr>\n",
       "  </thead>\n",
       "  <tbody>\n",
       "    <tr>\n",
       "      <th>252108</th>\n",
       "      <td>future</td>\n",
       "      <td>air_00a91d42b08b08d9</td>\n",
       "      <td>air_00a91d42b08b08d9_2017-04-23</td>\n",
       "      <td>2017-04-23</td>\n",
       "      <td>0</td>\n",
       "      <td>6</td>\n",
       "      <td>2017</td>\n",
       "      <td>4</td>\n",
       "      <td>113</td>\n",
       "      <td>30</td>\n",
       "      <td>...</td>\n",
       "      <td>6</td>\n",
       "      <td>44</td>\n",
       "      <td>16</td>\n",
       "      <td>31</td>\n",
       "      <td>7</td>\n",
       "      <td>5</td>\n",
       "      <td>45</td>\n",
       "      <td>102</td>\n",
       "      <td>6</td>\n",
       "      <td>11</td>\n",
       "    </tr>\n",
       "    <tr>\n",
       "      <th>252109</th>\n",
       "      <td>future</td>\n",
       "      <td>air_00a91d42b08b08d9</td>\n",
       "      <td>air_00a91d42b08b08d9_2017-04-24</td>\n",
       "      <td>2017-04-24</td>\n",
       "      <td>0</td>\n",
       "      <td>0</td>\n",
       "      <td>2017</td>\n",
       "      <td>4</td>\n",
       "      <td>114</td>\n",
       "      <td>30</td>\n",
       "      <td>...</td>\n",
       "      <td>6</td>\n",
       "      <td>44</td>\n",
       "      <td>16</td>\n",
       "      <td>31</td>\n",
       "      <td>7</td>\n",
       "      <td>5</td>\n",
       "      <td>45</td>\n",
       "      <td>102</td>\n",
       "      <td>0</td>\n",
       "      <td>0</td>\n",
       "    </tr>\n",
       "    <tr>\n",
       "      <th>252110</th>\n",
       "      <td>future</td>\n",
       "      <td>air_00a91d42b08b08d9</td>\n",
       "      <td>air_00a91d42b08b08d9_2017-04-25</td>\n",
       "      <td>2017-04-25</td>\n",
       "      <td>0</td>\n",
       "      <td>1</td>\n",
       "      <td>2017</td>\n",
       "      <td>4</td>\n",
       "      <td>115</td>\n",
       "      <td>30</td>\n",
       "      <td>...</td>\n",
       "      <td>6</td>\n",
       "      <td>44</td>\n",
       "      <td>16</td>\n",
       "      <td>31</td>\n",
       "      <td>7</td>\n",
       "      <td>5</td>\n",
       "      <td>45</td>\n",
       "      <td>102</td>\n",
       "      <td>1</td>\n",
       "      <td>2</td>\n",
       "    </tr>\n",
       "    <tr>\n",
       "      <th>252111</th>\n",
       "      <td>future</td>\n",
       "      <td>air_00a91d42b08b08d9</td>\n",
       "      <td>air_00a91d42b08b08d9_2017-04-26</td>\n",
       "      <td>2017-04-26</td>\n",
       "      <td>0</td>\n",
       "      <td>2</td>\n",
       "      <td>2017</td>\n",
       "      <td>4</td>\n",
       "      <td>116</td>\n",
       "      <td>30</td>\n",
       "      <td>...</td>\n",
       "      <td>6</td>\n",
       "      <td>44</td>\n",
       "      <td>16</td>\n",
       "      <td>31</td>\n",
       "      <td>7</td>\n",
       "      <td>5</td>\n",
       "      <td>45</td>\n",
       "      <td>102</td>\n",
       "      <td>2</td>\n",
       "      <td>3</td>\n",
       "    </tr>\n",
       "    <tr>\n",
       "      <th>252112</th>\n",
       "      <td>future</td>\n",
       "      <td>air_00a91d42b08b08d9</td>\n",
       "      <td>air_00a91d42b08b08d9_2017-04-27</td>\n",
       "      <td>2017-04-27</td>\n",
       "      <td>0</td>\n",
       "      <td>3</td>\n",
       "      <td>2017</td>\n",
       "      <td>4</td>\n",
       "      <td>117</td>\n",
       "      <td>30</td>\n",
       "      <td>...</td>\n",
       "      <td>6</td>\n",
       "      <td>44</td>\n",
       "      <td>16</td>\n",
       "      <td>31</td>\n",
       "      <td>7</td>\n",
       "      <td>5</td>\n",
       "      <td>45</td>\n",
       "      <td>102</td>\n",
       "      <td>3</td>\n",
       "      <td>5</td>\n",
       "    </tr>\n",
       "  </tbody>\n",
       "</table>\n",
       "<p>5 rows × 51 columns</p>\n",
       "</div>"
      ],
      "text/plain": [
       "       dataset          air_store_id                               id  \\\n",
       "252108  future  air_00a91d42b08b08d9  air_00a91d42b08b08d9_2017-04-23   \n",
       "252109  future  air_00a91d42b08b08d9  air_00a91d42b08b08d9_2017-04-24   \n",
       "252110  future  air_00a91d42b08b08d9  air_00a91d42b08b08d9_2017-04-25   \n",
       "252111  future  air_00a91d42b08b08d9  air_00a91d42b08b08d9_2017-04-26   \n",
       "252112  future  air_00a91d42b08b08d9  air_00a91d42b08b08d9_2017-04-27   \n",
       "\n",
       "       visit_date  visitors  weekday  year  month  day_of_year  days_in_month  \\\n",
       "252108 2017-04-23         0        6  2017      4          113             30   \n",
       "252109 2017-04-24         0        0  2017      4          114             30   \n",
       "252110 2017-04-25         0        1  2017      4          115             30   \n",
       "252111 2017-04-26         0        2  2017      4          116             30   \n",
       "252112 2017-04-27         0        3  2017      4          117             30   \n",
       "\n",
       "                  ...             air_genre_name_int  air_area_name_int  \\\n",
       "252108            ...                              6                 44   \n",
       "252109            ...                              6                 44   \n",
       "252110            ...                              6                 44   \n",
       "252111            ...                              6                 44   \n",
       "252112            ...                              6                 44   \n",
       "\n",
       "        hpg_genre_name_int  hpg_area_name_int Todofuken_int city_int  \\\n",
       "252108                  16                 31             7        5   \n",
       "252109                  16                 31             7        5   \n",
       "252110                  16                 31             7        5   \n",
       "252111                  16                 31             7        5   \n",
       "252112                  16                 31             7        5   \n",
       "\n",
       "        street_int  area_genre_int store_weekday_int store_weekday_holiday_int  \n",
       "252108          45             102                 6                        11  \n",
       "252109          45             102                 0                         0  \n",
       "252110          45             102                 1                         2  \n",
       "252111          45             102                 2                         3  \n",
       "252112          45             102                 3                         5  \n",
       "\n",
       "[5 rows x 51 columns]"
      ]
     },
     "metadata": {},
     "output_type": "display_data"
    }
   ],
   "source": [
    "past = full.query('dataset==\"past\"')\n",
    "future  = full.query('dataset==\"future\"')\n",
    "\n",
    "print('Past data set:')\n",
    "display(past.shape)\n",
    "display(past.head())\n",
    "\n",
    "print('Future data set:')\n",
    "display(future.shape)\n",
    "display(future.head())"
   ]
  },
  {
   "cell_type": "markdown",
   "metadata": {},
   "source": [
    "### Split train and validation data"
   ]
  },
  {
   "cell_type": "code",
   "execution_count": 6,
   "metadata": {},
   "outputs": [
    {
     "name": "stdout",
     "output_type": "stream",
     "text": [
      "Training set dimensions...\n",
      "- X_train: (197315, 30)\n",
      "- y_train: (197315,)\n"
     ]
    }
   ],
   "source": [
    "train_selector = past.visit_date.between('2016-04-01', '2017-03-09')\n",
    "X_train = past[train_selector][use_cols]\n",
    "y_train = past[train_selector][target_col].apply(np.log1p)    # apply np.log1p() (log(1+x)) to visitors count, to correct for high skewness\n",
    "\n",
    "print('Training set dimensions...')\n",
    "print('- X_train:', X_train.shape)\n",
    "print('- y_train:', y_train.shape)"
   ]
  },
  {
   "cell_type": "code",
   "execution_count": 7,
   "metadata": {},
   "outputs": [
    {
     "name": "stdout",
     "output_type": "stream",
     "text": [
      "Validation set dimensions...\n",
      "- X_val: (228610, 30)\n",
      "- y_val: (228610,)\n"
     ]
    }
   ],
   "source": [
    "val_selector = past.visit_date > '2016-04-01'\n",
    "X_val = past[val_selector][use_cols]\n",
    "y_val = past[val_selector][target_col].apply(np.log1p)\n",
    "\n",
    "print('Validation set dimensions...')\n",
    "print('- X_val:', X_val.shape)\n",
    "print('- y_val:', y_val.shape)"
   ]
  },
  {
   "cell_type": "markdown",
   "metadata": {},
   "source": [
    "Why log-tranform `y`s?"
   ]
  },
  {
   "cell_type": "code",
   "execution_count": 9,
   "metadata": {},
   "outputs": [
    {
     "data": {
      "text/plain": [
       "<matplotlib.axes._subplots.AxesSubplot at 0x1a40f97748>"
      ]
     },
     "execution_count": 9,
     "metadata": {},
     "output_type": "execute_result"
    },
    {
     "data": {
      "image/png": "[encoded data removed]",
      "text/plain": [
       "<matplotlib.figure.Figure at 0x110308a58>"
      ]
     },
     "metadata": {},
     "output_type": "display_data"
    }
   ],
   "source": [
    "fg, ax = plt.subplots(nrows=1, ncols=2, figsize=[10,5])\n",
    "past[target_col].hist(bins=100, ax=ax[0])\n",
    "past[target_col].apply(np.log).hist(bins=100, ax=ax[1])"
   ]
  },
  {
   "cell_type": "markdown",
   "metadata": {},
   "source": [
    "### Train XGB model"
   ]
  },
  {
   "cell_type": "code",
   "execution_count": 10,
   "metadata": {
    "collapsed": true
   },
   "outputs": [],
   "source": [
    "import xgboost as xgb"
   ]
  },
  {
   "cell_type": "code",
   "execution_count": 11,
   "metadata": {
    "scrolled": false
   },
   "outputs": [
    {
     "name": "stdout",
     "output_type": "stream",
     "text": [
      "[0]\ttrain-rmse:2.19658\teval-rmse:2.20422\n",
      "Multiple eval metrics have been passed: 'eval-rmse' will be used for early stopping.\n",
      "\n",
      "Will train until eval-rmse hasn't improved in 50 rounds.\n",
      "[1000]\ttrain-rmse:0.405889\teval-rmse:0.418759\n",
      "[2000]\ttrain-rmse:0.396368\teval-rmse:0.411137\n",
      "[3000]\ttrain-rmse:0.386038\teval-rmse:0.403093\n",
      "Stopping. Best iteration:\n",
      "[2977]\ttrain-rmse:0.386038\teval-rmse:0.403093\n",
      "\n",
      "best_score: 0.403093, best_iteration: 2977\n",
      "CPU times: user 18min 43s, sys: 23.2 s, total: 19min 7s\n",
      "Wall time: 6min 8s\n"
     ]
    }
   ],
   "source": [
    "%%time\n",
    "\n",
    "xg_train = xgb.DMatrix(X_train, label=y_train)\n",
    "xg_val = xgb.DMatrix(X_val, label=y_val)\n",
    "\n",
    "watchlist = [ (xg_train, 'train'), (xg_val, 'eval') ]\n",
    "\n",
    "try_xgb_params = {'colsample_bytree': 0.7,\n",
    "                  'eta': 0.1,\n",
    "                  'gamma': 1,\n",
    "                  'max_depth': 10,\n",
    "                  'min_child_weight': 3,\n",
    "                  'nthread': 8,\n",
    "                  'objective': 'reg:linear',\n",
    "                  'seed': 2018,\n",
    "                  'subsample': 1}\n",
    "\n",
    "model = xgb.train(params=try_xgb_params,\n",
    "                  dtrain=xg_train, \n",
    "                  num_boost_round=100000, \n",
    "                  evals=watchlist,\n",
    "                  early_stopping_rounds=50,\n",
    "                  verbose_eval=1000\n",
    "                 )\n",
    "\n",
    "best_iteration = model.best_iteration\n",
    "best_score = model.best_score\n",
    "\n",
    "print ('best_score: {}, best_iteration: {}'.format(best_score, best_iteration))"
   ]
  },
  {
   "cell_type": "markdown",
   "metadata": {
    "collapsed": true
   },
   "source": [
    "### Feature importance"
   ]
  },
  {
   "cell_type": "code",
   "execution_count": 14,
   "metadata": {
    "scrolled": false
   },
   "outputs": [
    {
     "data": {
      "text/html": [
       "<div>\n",
       "<style scoped>\n",
       "    .dataframe tbody tr th:only-of-type {\n",
       "        vertical-align: middle;\n",
       "    }\n",
       "\n",
       "    .dataframe tbody tr th {\n",
       "        vertical-align: top;\n",
       "    }\n",
       "\n",
       "    .dataframe thead th {\n",
       "        text-align: right;\n",
       "    }\n",
       "</style>\n",
       "<table border=\"1\" class=\"dataframe\">\n",
       "  <thead>\n",
       "    <tr style=\"text-align: right;\">\n",
       "      <th></th>\n",
       "      <th>importance</th>\n",
       "    </tr>\n",
       "  </thead>\n",
       "  <tbody>\n",
       "    <tr>\n",
       "      <th>day_of_year</th>\n",
       "      <td>0.146817</td>\n",
       "    </tr>\n",
       "    <tr>\n",
       "      <th>days_since_20160101</th>\n",
       "      <td>0.111153</td>\n",
       "    </tr>\n",
       "    <tr>\n",
       "      <th>mean_visitors</th>\n",
       "      <td>0.089577</td>\n",
       "    </tr>\n",
       "    <tr>\n",
       "      <th>max_visitors</th>\n",
       "      <td>0.071516</td>\n",
       "    </tr>\n",
       "    <tr>\n",
       "      <th>store_weekday_int</th>\n",
       "      <td>0.066856</td>\n",
       "    </tr>\n",
       "    <tr>\n",
       "      <th>median_visitors</th>\n",
       "      <td>0.050465</td>\n",
       "    </tr>\n",
       "    <tr>\n",
       "      <th>air_store_id_int</th>\n",
       "      <td>0.048432</td>\n",
       "    </tr>\n",
       "    <tr>\n",
       "      <th>min_visitors</th>\n",
       "      <td>0.032809</td>\n",
       "    </tr>\n",
       "    <tr>\n",
       "      <th>store_weekday_holiday_int</th>\n",
       "      <td>0.029253</td>\n",
       "    </tr>\n",
       "    <tr>\n",
       "      <th>latitude_air</th>\n",
       "      <td>0.029159</td>\n",
       "    </tr>\n",
       "    <tr>\n",
       "      <th>air_genre_name_int</th>\n",
       "      <td>0.028377</td>\n",
       "    </tr>\n",
       "    <tr>\n",
       "      <th>n_reserve_visitors</th>\n",
       "      <td>0.026344</td>\n",
       "    </tr>\n",
       "    <tr>\n",
       "      <th>street_int</th>\n",
       "      <td>0.026290</td>\n",
       "    </tr>\n",
       "    <tr>\n",
       "      <th>area_genre_int</th>\n",
       "      <td>0.025926</td>\n",
       "    </tr>\n",
       "    <tr>\n",
       "      <th>longitude_air</th>\n",
       "      <td>0.024728</td>\n",
       "    </tr>\n",
       "    <tr>\n",
       "      <th>week_of_year</th>\n",
       "      <td>0.024485</td>\n",
       "    </tr>\n",
       "    <tr>\n",
       "      <th>weekday</th>\n",
       "      <td>0.021064</td>\n",
       "    </tr>\n",
       "    <tr>\n",
       "      <th>reserve_avg_hours_ahead</th>\n",
       "      <td>0.020983</td>\n",
       "    </tr>\n",
       "    <tr>\n",
       "      <th>n_stores_same_street</th>\n",
       "      <td>0.019973</td>\n",
       "    </tr>\n",
       "    <tr>\n",
       "      <th>n_stores_same_city</th>\n",
       "      <td>0.015987</td>\n",
       "    </tr>\n",
       "    <tr>\n",
       "      <th>city_int</th>\n",
       "      <td>0.015919</td>\n",
       "    </tr>\n",
       "    <tr>\n",
       "      <th>air_area_name_int</th>\n",
       "      <td>0.015246</td>\n",
       "    </tr>\n",
       "    <tr>\n",
       "      <th>n_reserves</th>\n",
       "      <td>0.011933</td>\n",
       "    </tr>\n",
       "    <tr>\n",
       "      <th>month</th>\n",
       "      <td>0.011825</td>\n",
       "    </tr>\n",
       "    <tr>\n",
       "      <th>n_stores_same_Todofuken</th>\n",
       "      <td>0.009953</td>\n",
       "    </tr>\n",
       "    <tr>\n",
       "      <th>hpg_area_name_int</th>\n",
       "      <td>0.008714</td>\n",
       "    </tr>\n",
       "    <tr>\n",
       "      <th>hpg_genre_name_int</th>\n",
       "      <td>0.007623</td>\n",
       "    </tr>\n",
       "    <tr>\n",
       "      <th>days_in_month</th>\n",
       "      <td>0.007125</td>\n",
       "    </tr>\n",
       "    <tr>\n",
       "      <th>Todofuken_int</th>\n",
       "      <td>0.000835</td>\n",
       "    </tr>\n",
       "    <tr>\n",
       "      <th>year</th>\n",
       "      <td>0.000633</td>\n",
       "    </tr>\n",
       "  </tbody>\n",
       "</table>\n",
       "</div>"
      ],
      "text/plain": [
       "                           importance\n",
       "day_of_year                  0.146817\n",
       "days_since_20160101          0.111153\n",
       "mean_visitors                0.089577\n",
       "max_visitors                 0.071516\n",
       "store_weekday_int            0.066856\n",
       "median_visitors              0.050465\n",
       "air_store_id_int             0.048432\n",
       "min_visitors                 0.032809\n",
       "store_weekday_holiday_int    0.029253\n",
       "latitude_air                 0.029159\n",
       "air_genre_name_int           0.028377\n",
       "n_reserve_visitors           0.026344\n",
       "street_int                   0.026290\n",
       "area_genre_int               0.025926\n",
       "longitude_air                0.024728\n",
       "week_of_year                 0.024485\n",
       "weekday                      0.021064\n",
       "reserve_avg_hours_ahead      0.020983\n",
       "n_stores_same_street         0.019973\n",
       "n_stores_same_city           0.015987\n",
       "city_int                     0.015919\n",
       "air_area_name_int            0.015246\n",
       "n_reserves                   0.011933\n",
       "month                        0.011825\n",
       "n_stores_same_Todofuken      0.009953\n",
       "hpg_area_name_int            0.008714\n",
       "hpg_genre_name_int           0.007623\n",
       "days_in_month                0.007125\n",
       "Todofuken_int                0.000835\n",
       "year                         0.000633"
      ]
     },
     "execution_count": 14,
     "metadata": {},
     "output_type": "execute_result"
    },
    {
     "data": {
      "image/png": "[encoded data removed]",
      "text/plain": [
       "<matplotlib.figure.Figure at 0x10d48d5c0>"
      ]
     },
     "metadata": {},
     "output_type": "display_data"
    }
   ],
   "source": [
    "feature_importance = pd.DataFrame.from_dict(model.get_fscore(), orient='index')\n",
    "feature_importance.columns = ['importance']\n",
    "feature_importance.importance = feature_importance.importance / feature_importance.importance.sum()\n",
    "feature_importance.sort_values(by='importance').head(30).plot.barh(figsize=[4,20])\n",
    "feature_importance.sort_values(by='importance', ascending=False).head(30)"
   ]
  },
  {
   "cell_type": "markdown",
   "metadata": {},
   "source": [
    "### Create a submission"
   ]
  },
  {
   "cell_type": "code",
   "execution_count": 15,
   "metadata": {},
   "outputs": [
    {
     "name": "stdout",
     "output_type": "stream",
     "text": [
      "Training set dimensions...\n",
      "- X_train: (252108, 30)\n",
      "- y_train: (252108,)\n"
     ]
    }
   ],
   "source": [
    "# train_selector = past.visit_date.between('2016-04-01', '2017-03-09')\n",
    "X_train = past[use_cols]\n",
    "y_train = past[target_col].apply(np.log1p)    # apply np.log1p() (log(1+x)) to visitors count, to correct for high skewness\n",
    "\n",
    "print('Training set dimensions...')\n",
    "print('- X_train:', X_train.shape)\n",
    "print('- y_train:', y_train.shape)"
   ]
  },
  {
   "cell_type": "code",
   "execution_count": 16,
   "metadata": {
    "collapsed": true
   },
   "outputs": [],
   "source": [
    "%%time\n",
    "model = xgb.train(params=try_xgb_params, \n",
    "                  dtrain=xgb.DMatrix(X_train, label=y_train), \n",
    "                  num_boost_round=best_iteration*2\n",
    "                 )"
   ]
  },
  {
   "cell_type": "code",
   "execution_count": 25,
   "metadata": {},
   "outputs": [
    {
     "name": "stderr",
     "output_type": "stream",
     "text": [
      "/Users/guozhenli/anaconda/lib/python3.6/site-packages/ipykernel_launcher.py:1: SettingWithCopyWarning: \n",
      "A value is trying to be set on a copy of a slice from a DataFrame.\n",
      "Try using .loc[row_indexer,col_indexer] = value instead\n",
      "\n",
      "See the caveats in the documentation: http://pandas.pydata.org/pandas-docs/stable/indexing.html#indexing-view-versus-copy\n",
      "  \"\"\"Entry point for launching an IPython kernel.\n",
      "/Users/guozhenli/anaconda/lib/python3.6/site-packages/ipykernel_launcher.py:2: SettingWithCopyWarning: \n",
      "A value is trying to be set on a copy of a slice from a DataFrame.\n",
      "Try using .loc[row_indexer,col_indexer] = value instead\n",
      "\n",
      "See the caveats in the documentation: http://pandas.pydata.org/pandas-docs/stable/indexing.html#indexing-view-versus-copy\n",
      "  \n"
     ]
    }
   ],
   "source": [
    "future[target_col] = model.predict(xgb.DMatrix(future[use_cols]))\n",
    "future[target_col] = future[target_col].apply(np.expm1).clip(lower=0.)"
   ]
  },
  {
   "cell_type": "code",
   "execution_count": 27,
   "metadata": {},
   "outputs": [],
   "source": [
    "sub = future[[id_col, target_col]].copy()\n",
    "\n",
    "sub.to_csv('output/sub_xgb_try.csv', index=False)"
   ]
  }
 ],
 "metadata": {
  "kernelspec": {
   "display_name": "Python 3",
   "language": "python",
   "name": "python3"
  },
  "language_info": {
   "codemirror_mode": {
    "name": "ipython",
    "version": 3
   },
   "file_extension": ".py",
   "mimetype": "text/x-python",
   "name": "python",
   "nbconvert_exporter": "python",
   "pygments_lexer": "ipython3",
   "version": "3.6.3"
  },
  "toc": {
   "nav_menu": {},
   "number_sections": true,
   "sideBar": false,
   "skip_h1_title": true,
   "toc_cell": true,
   "toc_position": {
    "height": "564px",
    "left": "1094px",
    "right": "20px",
    "top": "106.5px",
    "width": "346px"
   },
   "toc_section_display": "block",
   "toc_window_display": true
  }
 },
 "nbformat": 4,
 "nbformat_minor": 2
}
