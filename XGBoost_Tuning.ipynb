{
 "cells": [
  {
   "cell_type": "markdown",
   "metadata": {},
   "source": [
    "# Modeling"
   ]
  },
  {
   "cell_type": "markdown",
   "metadata": {
    "toc": true
   },
   "source": [
    "<h1>Table of Contents<span class=\"tocSkip\"></span></h1>\n",
    "<div class=\"toc\" style=\"margin-top: 1em;\"><ul class=\"toc-item\"><li><span><a href=\"#Load-Packages-and-Data\" data-toc-modified-id=\"Load-Packages-and-Data-1\"><span class=\"toc-item-num\">1&nbsp;&nbsp;</span>Load Packages and Data</a></span></li><li><span><a href=\"#Prepare-Training-Data-as-xgb.DMatrix\" data-toc-modified-id=\"Prepare-Training-Data-as-xgb.DMatrix-2\"><span class=\"toc-item-num\">2&nbsp;&nbsp;</span>Prepare Training Data as <code>xgb.DMatrix</code></a></span><ul class=\"toc-item\"><li><span><a href=\"#Choose-columns-to-use\" data-toc-modified-id=\"Choose-columns-to-use-2.1\"><span class=\"toc-item-num\">2.1&nbsp;&nbsp;</span>Choose columns to use</a></span></li><li><span><a href=\"#Split-past-and-future-data\" data-toc-modified-id=\"Split-past-and-future-data-2.2\"><span class=\"toc-item-num\">2.2&nbsp;&nbsp;</span>Split <code>past</code> and <code>future</code> data</a></span></li><li><span><a href=\"#Split-train-and-validation-data\" data-toc-modified-id=\"Split-train-and-validation-data-2.3\"><span class=\"toc-item-num\">2.3&nbsp;&nbsp;</span>Split train and validation data</a></span></li><li><span><a href=\"#Transform-pd.DataFrame-to-xgb.DMatrix\" data-toc-modified-id=\"Transform-pd.DataFrame-to-xgb.DMatrix-2.4\"><span class=\"toc-item-num\">2.4&nbsp;&nbsp;</span>Transform <code>pd.DataFrame</code> to <code>xgb.DMatrix</code></a></span></li></ul></li><li><span><a href=\"#XGBoost-Trial-Run\" data-toc-modified-id=\"XGBoost-Trial-Run-3\"><span class=\"toc-item-num\">3&nbsp;&nbsp;</span>XGBoost Trial Run</a></span><ul class=\"toc-item\"><li><span><a href=\"#Train-XGB-model\" data-toc-modified-id=\"Train-XGB-model-3.1\"><span class=\"toc-item-num\">3.1&nbsp;&nbsp;</span>Train XGB model</a></span></li><li><span><a href=\"#Feature-importance\" data-toc-modified-id=\"Feature-importance-3.2\"><span class=\"toc-item-num\">3.2&nbsp;&nbsp;</span>Feature importance</a></span></li><li><span><a href=\"#Create-a-submission\" data-toc-modified-id=\"Create-a-submission-3.3\"><span class=\"toc-item-num\">3.3&nbsp;&nbsp;</span>Create a submission</a></span></li></ul></li><li><span><a href=\"#XGBoost-Manual-Tuning\" data-toc-modified-id=\"XGBoost-Manual-Tuning-4\"><span class=\"toc-item-num\">4&nbsp;&nbsp;</span>XGBoost Manual Tuning</a></span></li><li><span><a href=\"#XGBoost-Auto-Tuning\" data-toc-modified-id=\"XGBoost-Auto-Tuning-5\"><span class=\"toc-item-num\">5&nbsp;&nbsp;</span>XGBoost Auto Tuning</a></span></li></ul></div>"
   ]
  },
  {
   "cell_type": "markdown",
   "metadata": {},
   "source": [
    "## Load Packages and Data"
   ]
  },
  {
   "cell_type": "code",
   "execution_count": 1,
   "metadata": {
    "collapsed": true
   },
   "outputs": [],
   "source": [
    "import pandas as pd\n",
    "import numpy as np\n",
    "import matplotlib.pyplot as plt\n",
    "%matplotlib inline\n",
    "import xgboost as xgb"
   ]
  },
  {
   "cell_type": "code",
   "execution_count": 2,
   "metadata": {
    "collapsed": true
   },
   "outputs": [],
   "source": [
    "import pickle\n",
    "with open('scratch/variables.pkl', 'rb') as f:\n",
    "    (cat_cols, num_cols, bin_cols, id_col, target_col, \n",
    "    cat2int_cols, cat2int_encoders, cat2onehot_cols, \n",
    "    cat2onehot_sparse) = pickle.load(f)"
   ]
  },
  {
   "cell_type": "code",
   "execution_count": 3,
   "metadata": {
    "collapsed": true
   },
   "outputs": [],
   "source": [
    "full = pd.read_pickle('scratch/full_engineered.pkl')"
   ]
  },
  {
   "cell_type": "code",
   "execution_count": 4,
   "metadata": {},
   "outputs": [
    {
     "name": "stdout",
     "output_type": "stream",
     "text": [
      "<class 'pandas.core.frame.DataFrame'>\n",
      "Int64Index: 284127 entries, 0 to 284126\n",
      "Data columns (total 53 columns):\n",
      "dataset                      284127 non-null object\n",
      "air_store_id                 284127 non-null object\n",
      "id                           284127 non-null object\n",
      "visit_date                   284127 non-null datetime64[ns]\n",
      "visitors                     284127 non-null int64\n",
      "weekday                      284127 non-null int64\n",
      "year                         284127 non-null int64\n",
      "month                        284127 non-null int64\n",
      "day_of_year                  284127 non-null int64\n",
      "days_in_month                284127 non-null int64\n",
      "week_of_year                 284127 non-null int64\n",
      "is_month_end                 284127 non-null bool\n",
      "days_since_20160101          284127 non-null int64\n",
      "holiday_flg                  284127 non-null int64\n",
      "tomorrow_is_holiday          284127 non-null int32\n",
      "yesterday_is_holiday         284127 non-null int32\n",
      "air_genre_name               284127 non-null object\n",
      "air_area_name                284127 non-null object\n",
      "latitude_air                 284127 non-null float64\n",
      "longitude_air                284127 non-null float64\n",
      "hpg_store_id                 51869 non-null object\n",
      "hpg_genre_name               22555 non-null object\n",
      "hpg_area_name                22555 non-null object\n",
      "latitude_hpg                 22555 non-null float64\n",
      "longitude_hpg                22555 non-null float64\n",
      "Todofuken                    284127 non-null object\n",
      "city                         284127 non-null object\n",
      "street                       284127 non-null object\n",
      "n_stores_same_street         284127 non-null int64\n",
      "n_stores_same_city           284127 non-null int64\n",
      "n_stores_same_Todofuken      284127 non-null int64\n",
      "planned_visit_date           36967 non-null datetime64[ns]\n",
      "n_reserves                   36967 non-null float64\n",
      "n_reserve_visitors           36967 non-null float64\n",
      "reserve_avg_hours_ahead      36967 non-null float64\n",
      "area_genre                   284127 non-null object\n",
      "store_weekday                284127 non-null object\n",
      "store_weekday_holiday        284127 non-null object\n",
      "mean_visitors                283401 non-null float64\n",
      "median_visitors              283401 non-null float64\n",
      "min_visitors                 283401 non-null float64\n",
      "max_visitors                 283401 non-null float64\n",
      "air_store_id_int             284127 non-null int64\n",
      "air_genre_name_int           284127 non-null int64\n",
      "air_area_name_int            284127 non-null int64\n",
      "hpg_genre_name_int           284127 non-null int64\n",
      "hpg_area_name_int            284127 non-null int64\n",
      "Todofuken_int                284127 non-null int64\n",
      "city_int                     284127 non-null int64\n",
      "street_int                   284127 non-null int64\n",
      "area_genre_int               284127 non-null int64\n",
      "store_weekday_int            284127 non-null int64\n",
      "store_weekday_holiday_int    284127 non-null int64\n",
      "dtypes: bool(1), datetime64[ns](2), float64(11), int32(2), int64(23), object(14)\n",
      "memory usage: 113.0+ MB\n"
     ]
    },
    {
     "data": {
      "text/plain": [
       "None"
      ]
     },
     "metadata": {},
     "output_type": "display_data"
    },
    {
     "data": {
      "text/html": [
       "<div>\n",
       "<style>\n",
       "    .dataframe thead tr:only-child th {\n",
       "        text-align: right;\n",
       "    }\n",
       "\n",
       "    .dataframe thead th {\n",
       "        text-align: left;\n",
       "    }\n",
       "\n",
       "    .dataframe tbody tr th {\n",
       "        vertical-align: top;\n",
       "    }\n",
       "</style>\n",
       "<table border=\"1\" class=\"dataframe\">\n",
       "  <thead>\n",
       "    <tr style=\"text-align: right;\">\n",
       "      <th></th>\n",
       "      <th>dataset</th>\n",
       "      <th>air_store_id</th>\n",
       "      <th>id</th>\n",
       "      <th>visit_date</th>\n",
       "      <th>visitors</th>\n",
       "      <th>weekday</th>\n",
       "      <th>year</th>\n",
       "      <th>month</th>\n",
       "      <th>day_of_year</th>\n",
       "      <th>days_in_month</th>\n",
       "      <th>...</th>\n",
       "      <th>air_genre_name_int</th>\n",
       "      <th>air_area_name_int</th>\n",
       "      <th>hpg_genre_name_int</th>\n",
       "      <th>hpg_area_name_int</th>\n",
       "      <th>Todofuken_int</th>\n",
       "      <th>city_int</th>\n",
       "      <th>street_int</th>\n",
       "      <th>area_genre_int</th>\n",
       "      <th>store_weekday_int</th>\n",
       "      <th>store_weekday_holiday_int</th>\n",
       "    </tr>\n",
       "  </thead>\n",
       "  <tbody>\n",
       "    <tr>\n",
       "      <th>0</th>\n",
       "      <td>past</td>\n",
       "      <td>air_ba937bf13d40fb24</td>\n",
       "      <td>air_ba937bf13d40fb24_2016-01-13</td>\n",
       "      <td>2016-01-13</td>\n",
       "      <td>25</td>\n",
       "      <td>2</td>\n",
       "      <td>2016</td>\n",
       "      <td>1</td>\n",
       "      <td>13</td>\n",
       "      <td>31</td>\n",
       "      <td>...</td>\n",
       "      <td>4</td>\n",
       "      <td>62</td>\n",
       "      <td>16</td>\n",
       "      <td>31</td>\n",
       "      <td>7</td>\n",
       "      <td>29</td>\n",
       "      <td>77</td>\n",
       "      <td>144</td>\n",
       "      <td>4222</td>\n",
       "      <td>7860</td>\n",
       "    </tr>\n",
       "    <tr>\n",
       "      <th>1</th>\n",
       "      <td>past</td>\n",
       "      <td>air_ba937bf13d40fb24</td>\n",
       "      <td>air_ba937bf13d40fb24_2016-01-14</td>\n",
       "      <td>2016-01-14</td>\n",
       "      <td>32</td>\n",
       "      <td>3</td>\n",
       "      <td>2016</td>\n",
       "      <td>1</td>\n",
       "      <td>14</td>\n",
       "      <td>31</td>\n",
       "      <td>...</td>\n",
       "      <td>4</td>\n",
       "      <td>62</td>\n",
       "      <td>16</td>\n",
       "      <td>31</td>\n",
       "      <td>7</td>\n",
       "      <td>29</td>\n",
       "      <td>77</td>\n",
       "      <td>144</td>\n",
       "      <td>4223</td>\n",
       "      <td>7862</td>\n",
       "    </tr>\n",
       "    <tr>\n",
       "      <th>2</th>\n",
       "      <td>past</td>\n",
       "      <td>air_ba937bf13d40fb24</td>\n",
       "      <td>air_ba937bf13d40fb24_2016-01-15</td>\n",
       "      <td>2016-01-15</td>\n",
       "      <td>29</td>\n",
       "      <td>4</td>\n",
       "      <td>2016</td>\n",
       "      <td>1</td>\n",
       "      <td>15</td>\n",
       "      <td>31</td>\n",
       "      <td>...</td>\n",
       "      <td>4</td>\n",
       "      <td>62</td>\n",
       "      <td>16</td>\n",
       "      <td>31</td>\n",
       "      <td>7</td>\n",
       "      <td>29</td>\n",
       "      <td>77</td>\n",
       "      <td>144</td>\n",
       "      <td>4224</td>\n",
       "      <td>7864</td>\n",
       "    </tr>\n",
       "    <tr>\n",
       "      <th>3</th>\n",
       "      <td>past</td>\n",
       "      <td>air_ba937bf13d40fb24</td>\n",
       "      <td>air_ba937bf13d40fb24_2016-01-16</td>\n",
       "      <td>2016-01-16</td>\n",
       "      <td>22</td>\n",
       "      <td>5</td>\n",
       "      <td>2016</td>\n",
       "      <td>1</td>\n",
       "      <td>16</td>\n",
       "      <td>31</td>\n",
       "      <td>...</td>\n",
       "      <td>4</td>\n",
       "      <td>62</td>\n",
       "      <td>16</td>\n",
       "      <td>31</td>\n",
       "      <td>7</td>\n",
       "      <td>29</td>\n",
       "      <td>77</td>\n",
       "      <td>144</td>\n",
       "      <td>4225</td>\n",
       "      <td>7866</td>\n",
       "    </tr>\n",
       "    <tr>\n",
       "      <th>4</th>\n",
       "      <td>past</td>\n",
       "      <td>air_ba937bf13d40fb24</td>\n",
       "      <td>air_ba937bf13d40fb24_2016-01-18</td>\n",
       "      <td>2016-01-18</td>\n",
       "      <td>6</td>\n",
       "      <td>0</td>\n",
       "      <td>2016</td>\n",
       "      <td>1</td>\n",
       "      <td>18</td>\n",
       "      <td>31</td>\n",
       "      <td>...</td>\n",
       "      <td>4</td>\n",
       "      <td>62</td>\n",
       "      <td>16</td>\n",
       "      <td>31</td>\n",
       "      <td>7</td>\n",
       "      <td>29</td>\n",
       "      <td>77</td>\n",
       "      <td>144</td>\n",
       "      <td>4220</td>\n",
       "      <td>7858</td>\n",
       "    </tr>\n",
       "  </tbody>\n",
       "</table>\n",
       "<p>5 rows × 53 columns</p>\n",
       "</div>"
      ],
      "text/plain": [
       "  dataset          air_store_id                               id visit_date  \\\n",
       "0    past  air_ba937bf13d40fb24  air_ba937bf13d40fb24_2016-01-13 2016-01-13   \n",
       "1    past  air_ba937bf13d40fb24  air_ba937bf13d40fb24_2016-01-14 2016-01-14   \n",
       "2    past  air_ba937bf13d40fb24  air_ba937bf13d40fb24_2016-01-15 2016-01-15   \n",
       "3    past  air_ba937bf13d40fb24  air_ba937bf13d40fb24_2016-01-16 2016-01-16   \n",
       "4    past  air_ba937bf13d40fb24  air_ba937bf13d40fb24_2016-01-18 2016-01-18   \n",
       "\n",
       "   visitors  weekday  year  month  day_of_year  days_in_month  \\\n",
       "0        25        2  2016      1           13             31   \n",
       "1        32        3  2016      1           14             31   \n",
       "2        29        4  2016      1           15             31   \n",
       "3        22        5  2016      1           16             31   \n",
       "4         6        0  2016      1           18             31   \n",
       "\n",
       "             ...              air_genre_name_int  air_area_name_int  \\\n",
       "0            ...                               4                 62   \n",
       "1            ...                               4                 62   \n",
       "2            ...                               4                 62   \n",
       "3            ...                               4                 62   \n",
       "4            ...                               4                 62   \n",
       "\n",
       "   hpg_genre_name_int  hpg_area_name_int  Todofuken_int  city_int street_int  \\\n",
       "0                  16                 31              7        29         77   \n",
       "1                  16                 31              7        29         77   \n",
       "2                  16                 31              7        29         77   \n",
       "3                  16                 31              7        29         77   \n",
       "4                  16                 31              7        29         77   \n",
       "\n",
       "  area_genre_int  store_weekday_int  store_weekday_holiday_int  \n",
       "0            144               4222                       7860  \n",
       "1            144               4223                       7862  \n",
       "2            144               4224                       7864  \n",
       "3            144               4225                       7866  \n",
       "4            144               4220                       7858  \n",
       "\n",
       "[5 rows x 53 columns]"
      ]
     },
     "metadata": {},
     "output_type": "display_data"
    }
   ],
   "source": [
    "display(full.info())\n",
    "display(full.head())"
   ]
  },
  {
   "cell_type": "markdown",
   "metadata": {},
   "source": [
    "## Prepare Training Data as `xgb.DMatrix`"
   ]
  },
  {
   "cell_type": "markdown",
   "metadata": {},
   "source": [
    "### Choose columns to use"
   ]
  },
  {
   "cell_type": "markdown",
   "metadata": {},
   "source": [
    "Just use the numeric columns and integer-encoded categoricals..."
   ]
  },
  {
   "cell_type": "code",
   "execution_count": 5,
   "metadata": {},
   "outputs": [
    {
     "name": "stdout",
     "output_type": "stream",
     "text": [
      "['weekday', 'year', 'month', 'day_of_year', 'days_in_month', 'week_of_year', 'days_since_20160101', 'latitude_air', 'longitude_air', 'n_stores_same_street', 'n_stores_same_city', 'n_stores_same_Todofuken', 'n_reserves', 'n_reserve_visitors', 'reserve_avg_hours_ahead', 'mean_visitors', 'median_visitors', 'min_visitors', 'max_visitors', 'is_month_end', 'holiday_flg', 'tomorrow_is_holiday', 'yesterday_is_holiday', 'air_store_id_int', 'air_genre_name_int', 'air_area_name_int', 'hpg_genre_name_int', 'hpg_area_name_int', 'Todofuken_int', 'city_int', 'street_int', 'area_genre_int', 'store_weekday_int', 'store_weekday_holiday_int']\n"
     ]
    }
   ],
   "source": [
    "use_cols = num_cols + bin_cols + cat2int_cols\n",
    "print(use_cols)"
   ]
  },
  {
   "cell_type": "markdown",
   "metadata": {},
   "source": [
    "### Split `past` and `future` data"
   ]
  },
  {
   "cell_type": "code",
   "execution_count": 6,
   "metadata": {
    "scrolled": false
   },
   "outputs": [
    {
     "name": "stdout",
     "output_type": "stream",
     "text": [
      "Past data set:\n"
     ]
    },
    {
     "data": {
      "text/plain": [
       "(252108, 53)"
      ]
     },
     "metadata": {},
     "output_type": "display_data"
    },
    {
     "data": {
      "text/html": [
       "<div>\n",
       "<style>\n",
       "    .dataframe thead tr:only-child th {\n",
       "        text-align: right;\n",
       "    }\n",
       "\n",
       "    .dataframe thead th {\n",
       "        text-align: left;\n",
       "    }\n",
       "\n",
       "    .dataframe tbody tr th {\n",
       "        vertical-align: top;\n",
       "    }\n",
       "</style>\n",
       "<table border=\"1\" class=\"dataframe\">\n",
       "  <thead>\n",
       "    <tr style=\"text-align: right;\">\n",
       "      <th></th>\n",
       "      <th>dataset</th>\n",
       "      <th>air_store_id</th>\n",
       "      <th>id</th>\n",
       "      <th>visit_date</th>\n",
       "      <th>visitors</th>\n",
       "      <th>weekday</th>\n",
       "      <th>year</th>\n",
       "      <th>month</th>\n",
       "      <th>day_of_year</th>\n",
       "      <th>days_in_month</th>\n",
       "      <th>...</th>\n",
       "      <th>air_genre_name_int</th>\n",
       "      <th>air_area_name_int</th>\n",
       "      <th>hpg_genre_name_int</th>\n",
       "      <th>hpg_area_name_int</th>\n",
       "      <th>Todofuken_int</th>\n",
       "      <th>city_int</th>\n",
       "      <th>street_int</th>\n",
       "      <th>area_genre_int</th>\n",
       "      <th>store_weekday_int</th>\n",
       "      <th>store_weekday_holiday_int</th>\n",
       "    </tr>\n",
       "  </thead>\n",
       "  <tbody>\n",
       "    <tr>\n",
       "      <th>0</th>\n",
       "      <td>past</td>\n",
       "      <td>air_ba937bf13d40fb24</td>\n",
       "      <td>air_ba937bf13d40fb24_2016-01-13</td>\n",
       "      <td>2016-01-13</td>\n",
       "      <td>25</td>\n",
       "      <td>2</td>\n",
       "      <td>2016</td>\n",
       "      <td>1</td>\n",
       "      <td>13</td>\n",
       "      <td>31</td>\n",
       "      <td>...</td>\n",
       "      <td>4</td>\n",
       "      <td>62</td>\n",
       "      <td>16</td>\n",
       "      <td>31</td>\n",
       "      <td>7</td>\n",
       "      <td>29</td>\n",
       "      <td>77</td>\n",
       "      <td>144</td>\n",
       "      <td>4222</td>\n",
       "      <td>7860</td>\n",
       "    </tr>\n",
       "    <tr>\n",
       "      <th>1</th>\n",
       "      <td>past</td>\n",
       "      <td>air_ba937bf13d40fb24</td>\n",
       "      <td>air_ba937bf13d40fb24_2016-01-14</td>\n",
       "      <td>2016-01-14</td>\n",
       "      <td>32</td>\n",
       "      <td>3</td>\n",
       "      <td>2016</td>\n",
       "      <td>1</td>\n",
       "      <td>14</td>\n",
       "      <td>31</td>\n",
       "      <td>...</td>\n",
       "      <td>4</td>\n",
       "      <td>62</td>\n",
       "      <td>16</td>\n",
       "      <td>31</td>\n",
       "      <td>7</td>\n",
       "      <td>29</td>\n",
       "      <td>77</td>\n",
       "      <td>144</td>\n",
       "      <td>4223</td>\n",
       "      <td>7862</td>\n",
       "    </tr>\n",
       "    <tr>\n",
       "      <th>2</th>\n",
       "      <td>past</td>\n",
       "      <td>air_ba937bf13d40fb24</td>\n",
       "      <td>air_ba937bf13d40fb24_2016-01-15</td>\n",
       "      <td>2016-01-15</td>\n",
       "      <td>29</td>\n",
       "      <td>4</td>\n",
       "      <td>2016</td>\n",
       "      <td>1</td>\n",
       "      <td>15</td>\n",
       "      <td>31</td>\n",
       "      <td>...</td>\n",
       "      <td>4</td>\n",
       "      <td>62</td>\n",
       "      <td>16</td>\n",
       "      <td>31</td>\n",
       "      <td>7</td>\n",
       "      <td>29</td>\n",
       "      <td>77</td>\n",
       "      <td>144</td>\n",
       "      <td>4224</td>\n",
       "      <td>7864</td>\n",
       "    </tr>\n",
       "    <tr>\n",
       "      <th>3</th>\n",
       "      <td>past</td>\n",
       "      <td>air_ba937bf13d40fb24</td>\n",
       "      <td>air_ba937bf13d40fb24_2016-01-16</td>\n",
       "      <td>2016-01-16</td>\n",
       "      <td>22</td>\n",
       "      <td>5</td>\n",
       "      <td>2016</td>\n",
       "      <td>1</td>\n",
       "      <td>16</td>\n",
       "      <td>31</td>\n",
       "      <td>...</td>\n",
       "      <td>4</td>\n",
       "      <td>62</td>\n",
       "      <td>16</td>\n",
       "      <td>31</td>\n",
       "      <td>7</td>\n",
       "      <td>29</td>\n",
       "      <td>77</td>\n",
       "      <td>144</td>\n",
       "      <td>4225</td>\n",
       "      <td>7866</td>\n",
       "    </tr>\n",
       "    <tr>\n",
       "      <th>4</th>\n",
       "      <td>past</td>\n",
       "      <td>air_ba937bf13d40fb24</td>\n",
       "      <td>air_ba937bf13d40fb24_2016-01-18</td>\n",
       "      <td>2016-01-18</td>\n",
       "      <td>6</td>\n",
       "      <td>0</td>\n",
       "      <td>2016</td>\n",
       "      <td>1</td>\n",
       "      <td>18</td>\n",
       "      <td>31</td>\n",
       "      <td>...</td>\n",
       "      <td>4</td>\n",
       "      <td>62</td>\n",
       "      <td>16</td>\n",
       "      <td>31</td>\n",
       "      <td>7</td>\n",
       "      <td>29</td>\n",
       "      <td>77</td>\n",
       "      <td>144</td>\n",
       "      <td>4220</td>\n",
       "      <td>7858</td>\n",
       "    </tr>\n",
       "  </tbody>\n",
       "</table>\n",
       "<p>5 rows × 53 columns</p>\n",
       "</div>"
      ],
      "text/plain": [
       "  dataset          air_store_id                               id visit_date  \\\n",
       "0    past  air_ba937bf13d40fb24  air_ba937bf13d40fb24_2016-01-13 2016-01-13   \n",
       "1    past  air_ba937bf13d40fb24  air_ba937bf13d40fb24_2016-01-14 2016-01-14   \n",
       "2    past  air_ba937bf13d40fb24  air_ba937bf13d40fb24_2016-01-15 2016-01-15   \n",
       "3    past  air_ba937bf13d40fb24  air_ba937bf13d40fb24_2016-01-16 2016-01-16   \n",
       "4    past  air_ba937bf13d40fb24  air_ba937bf13d40fb24_2016-01-18 2016-01-18   \n",
       "\n",
       "   visitors  weekday  year  month  day_of_year  days_in_month  \\\n",
       "0        25        2  2016      1           13             31   \n",
       "1        32        3  2016      1           14             31   \n",
       "2        29        4  2016      1           15             31   \n",
       "3        22        5  2016      1           16             31   \n",
       "4         6        0  2016      1           18             31   \n",
       "\n",
       "             ...              air_genre_name_int  air_area_name_int  \\\n",
       "0            ...                               4                 62   \n",
       "1            ...                               4                 62   \n",
       "2            ...                               4                 62   \n",
       "3            ...                               4                 62   \n",
       "4            ...                               4                 62   \n",
       "\n",
       "   hpg_genre_name_int  hpg_area_name_int  Todofuken_int  city_int street_int  \\\n",
       "0                  16                 31              7        29         77   \n",
       "1                  16                 31              7        29         77   \n",
       "2                  16                 31              7        29         77   \n",
       "3                  16                 31              7        29         77   \n",
       "4                  16                 31              7        29         77   \n",
       "\n",
       "  area_genre_int  store_weekday_int  store_weekday_holiday_int  \n",
       "0            144               4222                       7860  \n",
       "1            144               4223                       7862  \n",
       "2            144               4224                       7864  \n",
       "3            144               4225                       7866  \n",
       "4            144               4220                       7858  \n",
       "\n",
       "[5 rows x 53 columns]"
      ]
     },
     "metadata": {},
     "output_type": "display_data"
    },
    {
     "name": "stdout",
     "output_type": "stream",
     "text": [
      "Future data set:\n"
     ]
    },
    {
     "data": {
      "text/plain": [
       "(32019, 53)"
      ]
     },
     "metadata": {},
     "output_type": "display_data"
    },
    {
     "data": {
      "text/html": [
       "<div>\n",
       "<style>\n",
       "    .dataframe thead tr:only-child th {\n",
       "        text-align: right;\n",
       "    }\n",
       "\n",
       "    .dataframe thead th {\n",
       "        text-align: left;\n",
       "    }\n",
       "\n",
       "    .dataframe tbody tr th {\n",
       "        vertical-align: top;\n",
       "    }\n",
       "</style>\n",
       "<table border=\"1\" class=\"dataframe\">\n",
       "  <thead>\n",
       "    <tr style=\"text-align: right;\">\n",
       "      <th></th>\n",
       "      <th>dataset</th>\n",
       "      <th>air_store_id</th>\n",
       "      <th>id</th>\n",
       "      <th>visit_date</th>\n",
       "      <th>visitors</th>\n",
       "      <th>weekday</th>\n",
       "      <th>year</th>\n",
       "      <th>month</th>\n",
       "      <th>day_of_year</th>\n",
       "      <th>days_in_month</th>\n",
       "      <th>...</th>\n",
       "      <th>air_genre_name_int</th>\n",
       "      <th>air_area_name_int</th>\n",
       "      <th>hpg_genre_name_int</th>\n",
       "      <th>hpg_area_name_int</th>\n",
       "      <th>Todofuken_int</th>\n",
       "      <th>city_int</th>\n",
       "      <th>street_int</th>\n",
       "      <th>area_genre_int</th>\n",
       "      <th>store_weekday_int</th>\n",
       "      <th>store_weekday_holiday_int</th>\n",
       "    </tr>\n",
       "  </thead>\n",
       "  <tbody>\n",
       "    <tr>\n",
       "      <th>252108</th>\n",
       "      <td>future</td>\n",
       "      <td>air_00a91d42b08b08d9</td>\n",
       "      <td>air_00a91d42b08b08d9_2017-04-23</td>\n",
       "      <td>2017-04-23</td>\n",
       "      <td>0</td>\n",
       "      <td>6</td>\n",
       "      <td>2017</td>\n",
       "      <td>4</td>\n",
       "      <td>113</td>\n",
       "      <td>30</td>\n",
       "      <td>...</td>\n",
       "      <td>6</td>\n",
       "      <td>44</td>\n",
       "      <td>16</td>\n",
       "      <td>31</td>\n",
       "      <td>7</td>\n",
       "      <td>5</td>\n",
       "      <td>45</td>\n",
       "      <td>102</td>\n",
       "      <td>6</td>\n",
       "      <td>11</td>\n",
       "    </tr>\n",
       "    <tr>\n",
       "      <th>252109</th>\n",
       "      <td>future</td>\n",
       "      <td>air_00a91d42b08b08d9</td>\n",
       "      <td>air_00a91d42b08b08d9_2017-04-24</td>\n",
       "      <td>2017-04-24</td>\n",
       "      <td>0</td>\n",
       "      <td>0</td>\n",
       "      <td>2017</td>\n",
       "      <td>4</td>\n",
       "      <td>114</td>\n",
       "      <td>30</td>\n",
       "      <td>...</td>\n",
       "      <td>6</td>\n",
       "      <td>44</td>\n",
       "      <td>16</td>\n",
       "      <td>31</td>\n",
       "      <td>7</td>\n",
       "      <td>5</td>\n",
       "      <td>45</td>\n",
       "      <td>102</td>\n",
       "      <td>0</td>\n",
       "      <td>0</td>\n",
       "    </tr>\n",
       "    <tr>\n",
       "      <th>252110</th>\n",
       "      <td>future</td>\n",
       "      <td>air_00a91d42b08b08d9</td>\n",
       "      <td>air_00a91d42b08b08d9_2017-04-25</td>\n",
       "      <td>2017-04-25</td>\n",
       "      <td>0</td>\n",
       "      <td>1</td>\n",
       "      <td>2017</td>\n",
       "      <td>4</td>\n",
       "      <td>115</td>\n",
       "      <td>30</td>\n",
       "      <td>...</td>\n",
       "      <td>6</td>\n",
       "      <td>44</td>\n",
       "      <td>16</td>\n",
       "      <td>31</td>\n",
       "      <td>7</td>\n",
       "      <td>5</td>\n",
       "      <td>45</td>\n",
       "      <td>102</td>\n",
       "      <td>1</td>\n",
       "      <td>2</td>\n",
       "    </tr>\n",
       "    <tr>\n",
       "      <th>252111</th>\n",
       "      <td>future</td>\n",
       "      <td>air_00a91d42b08b08d9</td>\n",
       "      <td>air_00a91d42b08b08d9_2017-04-26</td>\n",
       "      <td>2017-04-26</td>\n",
       "      <td>0</td>\n",
       "      <td>2</td>\n",
       "      <td>2017</td>\n",
       "      <td>4</td>\n",
       "      <td>116</td>\n",
       "      <td>30</td>\n",
       "      <td>...</td>\n",
       "      <td>6</td>\n",
       "      <td>44</td>\n",
       "      <td>16</td>\n",
       "      <td>31</td>\n",
       "      <td>7</td>\n",
       "      <td>5</td>\n",
       "      <td>45</td>\n",
       "      <td>102</td>\n",
       "      <td>2</td>\n",
       "      <td>3</td>\n",
       "    </tr>\n",
       "    <tr>\n",
       "      <th>252112</th>\n",
       "      <td>future</td>\n",
       "      <td>air_00a91d42b08b08d9</td>\n",
       "      <td>air_00a91d42b08b08d9_2017-04-27</td>\n",
       "      <td>2017-04-27</td>\n",
       "      <td>0</td>\n",
       "      <td>3</td>\n",
       "      <td>2017</td>\n",
       "      <td>4</td>\n",
       "      <td>117</td>\n",
       "      <td>30</td>\n",
       "      <td>...</td>\n",
       "      <td>6</td>\n",
       "      <td>44</td>\n",
       "      <td>16</td>\n",
       "      <td>31</td>\n",
       "      <td>7</td>\n",
       "      <td>5</td>\n",
       "      <td>45</td>\n",
       "      <td>102</td>\n",
       "      <td>3</td>\n",
       "      <td>5</td>\n",
       "    </tr>\n",
       "  </tbody>\n",
       "</table>\n",
       "<p>5 rows × 53 columns</p>\n",
       "</div>"
      ],
      "text/plain": [
       "       dataset          air_store_id                               id  \\\n",
       "252108  future  air_00a91d42b08b08d9  air_00a91d42b08b08d9_2017-04-23   \n",
       "252109  future  air_00a91d42b08b08d9  air_00a91d42b08b08d9_2017-04-24   \n",
       "252110  future  air_00a91d42b08b08d9  air_00a91d42b08b08d9_2017-04-25   \n",
       "252111  future  air_00a91d42b08b08d9  air_00a91d42b08b08d9_2017-04-26   \n",
       "252112  future  air_00a91d42b08b08d9  air_00a91d42b08b08d9_2017-04-27   \n",
       "\n",
       "       visit_date  visitors  weekday  year  month  day_of_year  days_in_month  \\\n",
       "252108 2017-04-23         0        6  2017      4          113             30   \n",
       "252109 2017-04-24         0        0  2017      4          114             30   \n",
       "252110 2017-04-25         0        1  2017      4          115             30   \n",
       "252111 2017-04-26         0        2  2017      4          116             30   \n",
       "252112 2017-04-27         0        3  2017      4          117             30   \n",
       "\n",
       "                  ...              air_genre_name_int  air_area_name_int  \\\n",
       "252108            ...                               6                 44   \n",
       "252109            ...                               6                 44   \n",
       "252110            ...                               6                 44   \n",
       "252111            ...                               6                 44   \n",
       "252112            ...                               6                 44   \n",
       "\n",
       "        hpg_genre_name_int  hpg_area_name_int  Todofuken_int  city_int  \\\n",
       "252108                  16                 31              7         5   \n",
       "252109                  16                 31              7         5   \n",
       "252110                  16                 31              7         5   \n",
       "252111                  16                 31              7         5   \n",
       "252112                  16                 31              7         5   \n",
       "\n",
       "       street_int area_genre_int  store_weekday_int  store_weekday_holiday_int  \n",
       "252108         45            102                  6                         11  \n",
       "252109         45            102                  0                          0  \n",
       "252110         45            102                  1                          2  \n",
       "252111         45            102                  2                          3  \n",
       "252112         45            102                  3                          5  \n",
       "\n",
       "[5 rows x 53 columns]"
      ]
     },
     "metadata": {},
     "output_type": "display_data"
    }
   ],
   "source": [
    "past = full.query('dataset==\"past\"')\n",
    "future  = full.query('dataset==\"future\"')\n",
    "\n",
    "print('Past data set:')\n",
    "display(past.shape)\n",
    "display(past.head())\n",
    "\n",
    "print('Future data set:')\n",
    "display(future.shape)\n",
    "display(future.head())"
   ]
  },
  {
   "cell_type": "markdown",
   "metadata": {},
   "source": [
    "### Split train and validation data"
   ]
  },
  {
   "cell_type": "code",
   "execution_count": 7,
   "metadata": {},
   "outputs": [
    {
     "name": "stdout",
     "output_type": "stream",
     "text": [
      "2016-01-01 00:00:00\n",
      "2017-04-22 00:00:00\n"
     ]
    }
   ],
   "source": [
    "print(past.visit_date.min())\n",
    "print(past.visit_date.max())"
   ]
  },
  {
   "cell_type": "code",
   "execution_count": 8,
   "metadata": {},
   "outputs": [
    {
     "name": "stdout",
     "output_type": "stream",
     "text": [
      "2017-04-23 00:00:00\n",
      "2017-05-31 00:00:00\n"
     ]
    }
   ],
   "source": [
    "print(future.visit_date.min())\n",
    "print(future.visit_date.max())"
   ]
  },
  {
   "cell_type": "markdown",
   "metadata": {},
   "source": [
    "Train on an earlier dataset and validate on a future dataset."
   ]
  },
  {
   "cell_type": "code",
   "execution_count": 9,
   "metadata": {},
   "outputs": [
    {
     "name": "stdout",
     "output_type": "stream",
     "text": [
      "Training set dimensions...\n",
      "- X_train: (194235, 34)\n",
      "- y_train: (194235,)\n"
     ]
    }
   ],
   "source": [
    "train_selector = past.visit_date < '2017-02-01'\n",
    "X_train = past[train_selector][use_cols]\n",
    "y_train = past[train_selector][target_col].apply(np.log1p)    # apply np.log1p() (log(1+x)) to visitors count, to correct for high skewness\n",
    "\n",
    "print('Training set dimensions...')\n",
    "print('- X_train:', X_train.shape)\n",
    "print('- y_train:', y_train.shape)"
   ]
  },
  {
   "cell_type": "code",
   "execution_count": 10,
   "metadata": {},
   "outputs": [
    {
     "name": "stdout",
     "output_type": "stream",
     "text": [
      "Validation set dimensions...\n",
      "- X_val: (57873, 34)\n",
      "- y_val: (57873,)\n"
     ]
    }
   ],
   "source": [
    "val_selector = past.visit_date >= '2017-02-01'\n",
    "X_val = past[val_selector][use_cols]\n",
    "y_val = past[val_selector][target_col].apply(np.log1p)\n",
    "\n",
    "print('Validation set dimensions...')\n",
    "print('- X_val:', X_val.shape)\n",
    "print('- y_val:', y_val.shape)"
   ]
  },
  {
   "cell_type": "markdown",
   "metadata": {},
   "source": [
    "Train-validate ratio:"
   ]
  },
  {
   "cell_type": "code",
   "execution_count": 11,
   "metadata": {},
   "outputs": [
    {
     "data": {
      "text/plain": [
       "3.3562282929863665"
      ]
     },
     "execution_count": 11,
     "metadata": {},
     "output_type": "execute_result"
    }
   ],
   "source": [
    "X_train.shape[0]/X_val.shape[0]"
   ]
  },
  {
   "cell_type": "markdown",
   "metadata": {},
   "source": [
    "Why log-tranform `y`'s?"
   ]
  },
  {
   "cell_type": "code",
   "execution_count": 12,
   "metadata": {
    "scrolled": true
   },
   "outputs": [
    {
     "data": {
      "text/plain": [
       "<matplotlib.axes._subplots.AxesSubplot at 0x1c6000624a8>"
      ]
     },
     "execution_count": 12,
     "metadata": {},
     "output_type": "execute_result"
    },
    {
     "data": {
      "image/png": "[encoded data removed]",
      "text/plain": [
       "<matplotlib.figure.Figure at 0x1c66d5e28d0>"
      ]
     },
     "metadata": {},
     "output_type": "display_data"
    }
   ],
   "source": [
    "fg, ax = plt.subplots(nrows=1, ncols=2, figsize=[10,5])\n",
    "past[target_col].hist(bins=100, ax=ax[0])\n",
    "past[target_col].apply(np.log).hist(bins=100, ax=ax[1])"
   ]
  },
  {
   "cell_type": "markdown",
   "metadata": {},
   "source": [
    "### Transform `pd.DataFrame` to `xgb.DMatrix`"
   ]
  },
  {
   "cell_type": "code",
   "execution_count": 13,
   "metadata": {
    "collapsed": true
   },
   "outputs": [],
   "source": [
    "train_dmatrix = xgb.DMatrix(X_train, label=y_train)\n",
    "val_dmatrix = xgb.DMatrix(X_val, label=y_val)\n",
    "\n",
    "eval_setting = [ (train_dmatrix, 'train'), (val_dmatrix, 'eval') ]"
   ]
  },
  {
   "cell_type": "markdown",
   "metadata": {},
   "source": [
    "## XGBoost Trial Run"
   ]
  },
  {
   "cell_type": "markdown",
   "metadata": {},
   "source": [
    "### Train XGB model"
   ]
  },
  {
   "cell_type": "code",
   "execution_count": 30,
   "metadata": {
    "scrolled": false
   },
   "outputs": [
    {
     "name": "stdout",
     "output_type": "stream",
     "text": [
      "[0]\ttrain-rmse:2.21013\teval-rmse:2.22399\n",
      "Multiple eval metrics have been passed: 'eval-rmse' will be used for early stopping.\n",
      "\n",
      "Will train until eval-rmse hasn't improved in 50 rounds.\n",
      "[100]\ttrain-rmse:0.491168\teval-rmse:0.488732\n",
      "[200]\ttrain-rmse:0.487898\teval-rmse:0.488044\n",
      "Stopping. Best iteration:\n",
      "[190]\ttrain-rmse:0.488206\teval-rmse:0.488012\n",
      "\n",
      "best_score: 0.488012, best_iteration: 190\n",
      "Wall time: 5.53 s\n"
     ]
    }
   ],
   "source": [
    "%%time\n",
    "\n",
    "try_xgb_params = {'colsample_bytree': 0.4,\n",
    "                  'eta': 0.1,\n",
    "                  'gamma': 2,\n",
    "                  'max_depth': 4,\n",
    "                  'min_child_weight': 100,\n",
    "                  'objective': 'reg:linear',\n",
    "                  'seed': 2018,\n",
    "                  'subsample': 1}\n",
    "\n",
    "model = xgb.train(params=try_xgb_params,\n",
    "                  dtrain=train_dmatrix, \n",
    "                  num_boost_round=100000, \n",
    "                  evals=eval_setting,\n",
    "                  early_stopping_rounds=50,\n",
    "                  verbose_eval=100\n",
    "                 )\n",
    "\n",
    "best_iteration = model.best_iteration\n",
    "best_score = model.best_score\n",
    "\n",
    "print ('best_score: {}, best_iteration: {}'.format(best_score, best_iteration))"
   ]
  },
  {
   "cell_type": "markdown",
   "metadata": {
    "collapsed": true
   },
   "source": [
    "### Feature importance"
   ]
  },
  {
   "cell_type": "code",
   "execution_count": 15,
   "metadata": {
    "scrolled": true
   },
   "outputs": [
    {
     "data": {
      "text/html": [
       "<div>\n",
       "<style>\n",
       "    .dataframe thead tr:only-child th {\n",
       "        text-align: right;\n",
       "    }\n",
       "\n",
       "    .dataframe thead th {\n",
       "        text-align: left;\n",
       "    }\n",
       "\n",
       "    .dataframe tbody tr th {\n",
       "        vertical-align: top;\n",
       "    }\n",
       "</style>\n",
       "<table border=\"1\" class=\"dataframe\">\n",
       "  <thead>\n",
       "    <tr style=\"text-align: right;\">\n",
       "      <th></th>\n",
       "      <th>importance</th>\n",
       "    </tr>\n",
       "  </thead>\n",
       "  <tbody>\n",
       "    <tr>\n",
       "      <th>day_of_year</th>\n",
       "      <td>0.180409</td>\n",
       "    </tr>\n",
       "    <tr>\n",
       "      <th>days_since_20160101</th>\n",
       "      <td>0.099677</td>\n",
       "    </tr>\n",
       "    <tr>\n",
       "      <th>mean_visitors</th>\n",
       "      <td>0.081922</td>\n",
       "    </tr>\n",
       "    <tr>\n",
       "      <th>max_visitors</th>\n",
       "      <td>0.060672</td>\n",
       "    </tr>\n",
       "    <tr>\n",
       "      <th>store_weekday_int</th>\n",
       "      <td>0.057138</td>\n",
       "    </tr>\n",
       "    <tr>\n",
       "      <th>air_store_id_int</th>\n",
       "      <td>0.053661</td>\n",
       "    </tr>\n",
       "    <tr>\n",
       "      <th>median_visitors</th>\n",
       "      <td>0.048180</td>\n",
       "    </tr>\n",
       "    <tr>\n",
       "      <th>week_of_year</th>\n",
       "      <td>0.031597</td>\n",
       "    </tr>\n",
       "    <tr>\n",
       "      <th>latitude_air</th>\n",
       "      <td>0.031125</td>\n",
       "    </tr>\n",
       "    <tr>\n",
       "      <th>street_int</th>\n",
       "      <td>0.030964</td>\n",
       "    </tr>\n",
       "    <tr>\n",
       "      <th>weekday</th>\n",
       "      <td>0.026646</td>\n",
       "    </tr>\n",
       "    <tr>\n",
       "      <th>reserve_avg_hours_ahead</th>\n",
       "      <td>0.023944</td>\n",
       "    </tr>\n",
       "    <tr>\n",
       "      <th>n_stores_same_street</th>\n",
       "      <td>0.023207</td>\n",
       "    </tr>\n",
       "    <tr>\n",
       "      <th>air_genre_name_int</th>\n",
       "      <td>0.022734</td>\n",
       "    </tr>\n",
       "    <tr>\n",
       "      <th>min_visitors</th>\n",
       "      <td>0.022545</td>\n",
       "    </tr>\n",
       "    <tr>\n",
       "      <th>area_genre_int</th>\n",
       "      <td>0.022385</td>\n",
       "    </tr>\n",
       "    <tr>\n",
       "      <th>longitude_air</th>\n",
       "      <td>0.019947</td>\n",
       "    </tr>\n",
       "    <tr>\n",
       "      <th>n_reserve_visitors</th>\n",
       "      <td>0.018652</td>\n",
       "    </tr>\n",
       "    <tr>\n",
       "      <th>air_area_name_int</th>\n",
       "      <td>0.017594</td>\n",
       "    </tr>\n",
       "    <tr>\n",
       "      <th>city_int</th>\n",
       "      <td>0.016914</td>\n",
       "    </tr>\n",
       "    <tr>\n",
       "      <th>store_weekday_holiday_int</th>\n",
       "      <td>0.016337</td>\n",
       "    </tr>\n",
       "    <tr>\n",
       "      <th>n_stores_same_city</th>\n",
       "      <td>0.015506</td>\n",
       "    </tr>\n",
       "    <tr>\n",
       "      <th>month</th>\n",
       "      <td>0.015128</td>\n",
       "    </tr>\n",
       "    <tr>\n",
       "      <th>days_in_month</th>\n",
       "      <td>0.009685</td>\n",
       "    </tr>\n",
       "    <tr>\n",
       "      <th>n_stores_same_Todofuken</th>\n",
       "      <td>0.009071</td>\n",
       "    </tr>\n",
       "    <tr>\n",
       "      <th>yesterday_is_holiday</th>\n",
       "      <td>0.008901</td>\n",
       "    </tr>\n",
       "    <tr>\n",
       "      <th>n_reserves</th>\n",
       "      <td>0.007805</td>\n",
       "    </tr>\n",
       "    <tr>\n",
       "      <th>hpg_area_name_int</th>\n",
       "      <td>0.007181</td>\n",
       "    </tr>\n",
       "    <tr>\n",
       "      <th>hpg_genre_name_int</th>\n",
       "      <td>0.006425</td>\n",
       "    </tr>\n",
       "    <tr>\n",
       "      <th>is_month_end</th>\n",
       "      <td>0.004365</td>\n",
       "    </tr>\n",
       "  </tbody>\n",
       "</table>\n",
       "</div>"
      ],
      "text/plain": [
       "                           importance\n",
       "day_of_year                  0.180409\n",
       "days_since_20160101          0.099677\n",
       "mean_visitors                0.081922\n",
       "max_visitors                 0.060672\n",
       "store_weekday_int            0.057138\n",
       "air_store_id_int             0.053661\n",
       "median_visitors              0.048180\n",
       "week_of_year                 0.031597\n",
       "latitude_air                 0.031125\n",
       "street_int                   0.030964\n",
       "weekday                      0.026646\n",
       "reserve_avg_hours_ahead      0.023944\n",
       "n_stores_same_street         0.023207\n",
       "air_genre_name_int           0.022734\n",
       "min_visitors                 0.022545\n",
       "area_genre_int               0.022385\n",
       "longitude_air                0.019947\n",
       "n_reserve_visitors           0.018652\n",
       "air_area_name_int            0.017594\n",
       "city_int                     0.016914\n",
       "store_weekday_holiday_int    0.016337\n",
       "n_stores_same_city           0.015506\n",
       "month                        0.015128\n",
       "days_in_month                0.009685\n",
       "n_stores_same_Todofuken      0.009071\n",
       "yesterday_is_holiday         0.008901\n",
       "n_reserves                   0.007805\n",
       "hpg_area_name_int            0.007181\n",
       "hpg_genre_name_int           0.006425\n",
       "is_month_end                 0.004365"
      ]
     },
     "execution_count": 15,
     "metadata": {},
     "output_type": "execute_result"
    },
    {
     "data": {
      "image/png": "[encoded data removed]",
      "text/plain": [
       "<matplotlib.figure.Figure at 0x1c66d5e2eb8>"
      ]
     },
     "metadata": {},
     "output_type": "display_data"
    }
   ],
   "source": [
    "feature_importance = pd.DataFrame.from_dict(model.get_fscore(), orient='index')\n",
    "feature_importance.columns = ['importance']\n",
    "feature_importance.importance = feature_importance.importance / feature_importance.importance.sum()\n",
    "feature_importance.sort_values(by='importance').head(30).plot.barh(figsize=[4,20])\n",
    "feature_importance.sort_values(by='importance', ascending=False).head(30)"
   ]
  },
  {
   "cell_type": "markdown",
   "metadata": {},
   "source": [
    "### Create a submission"
   ]
  },
  {
   "cell_type": "code",
   "execution_count": 32,
   "metadata": {},
   "outputs": [
    {
     "name": "stdout",
     "output_type": "stream",
     "text": [
      "Training set dimensions...\n",
      "- X_train: (252108, 30)\n",
      "- y_train: (252108,)\n"
     ]
    }
   ],
   "source": [
    "# train_selector = past.visit_date.between('2016-04-01', '2017-03-09')\n",
    "X_train = past[use_cols]\n",
    "y_train = past[target_col].apply(np.log1p)    # apply np.log1p() (log(1+x)) to visitors count, to correct for high skewness\n",
    "\n",
    "print('Training set dimensions...')\n",
    "print('- X_train:', X_train.shape)\n",
    "print('- y_train:', y_train.shape)"
   ]
  },
  {
   "cell_type": "code",
   "execution_count": 33,
   "metadata": {},
   "outputs": [
    {
     "name": "stdout",
     "output_type": "stream",
     "text": [
      "Wall time: 2h 8min 34s\n"
     ]
    }
   ],
   "source": [
    "%%time\n",
    "model = xgb.train(params=try_xgb_params, \n",
    "                  dtrain=xgb.DMatrix(X_train, label=y_train), \n",
    "                  num_boost_round=best_iteration*2\n",
    "                 )"
   ]
  },
  {
   "cell_type": "code",
   "execution_count": 34,
   "metadata": {},
   "outputs": [
    {
     "name": "stderr",
     "output_type": "stream",
     "text": [
      "C:\\ProgramData\\Anaconda3\\lib\\site-packages\\ipykernel_launcher.py:1: SettingWithCopyWarning: \n",
      "A value is trying to be set on a copy of a slice from a DataFrame.\n",
      "Try using .loc[row_indexer,col_indexer] = value instead\n",
      "\n",
      "See the caveats in the documentation: http://pandas.pydata.org/pandas-docs/stable/indexing.html#indexing-view-versus-copy\n",
      "  \"\"\"Entry point for launching an IPython kernel.\n",
      "C:\\ProgramData\\Anaconda3\\lib\\site-packages\\ipykernel_launcher.py:2: SettingWithCopyWarning: \n",
      "A value is trying to be set on a copy of a slice from a DataFrame.\n",
      "Try using .loc[row_indexer,col_indexer] = value instead\n",
      "\n",
      "See the caveats in the documentation: http://pandas.pydata.org/pandas-docs/stable/indexing.html#indexing-view-versus-copy\n",
      "  \n"
     ]
    }
   ],
   "source": [
    "future[target_col] = model.predict(xgb.DMatrix(future[use_cols]))\n",
    "future[target_col] = future[target_col].apply(np.expm1).clip(lower=0.)"
   ]
  },
  {
   "cell_type": "code",
   "execution_count": 38,
   "metadata": {
    "collapsed": true
   },
   "outputs": [],
   "source": [
    "sub = future[[id_col, target_col]].copy()\n",
    "\n",
    "sub.to_csv('output/sub_xgb_try.csv', index=False)"
   ]
  },
  {
   "cell_type": "markdown",
   "metadata": {},
   "source": [
    "## XGBoost Manual Tuning"
   ]
  },
  {
   "cell_type": "markdown",
   "metadata": {},
   "source": [
    "XGBoost parameters doc: http://xgboost.readthedocs.io/en/latest/parameter.html\n",
    "\n",
    "- `eta`: alias `learning_rate`. Step size. Smaller → learn slower, increase `num_round` to compensate.\n",
    "- `gamma`: cost of a further partition. Larger `gamma` → simpler trees\n",
    "- `colsample_bytree`: subsample ratio of columns when constructing each tree. Range (0,1]\n",
    "- `subsample`: randomly select `subsample` portion of observations in training"
   ]
  },
  {
   "cell_type": "code",
   "execution_count": 16,
   "metadata": {
    "collapsed": true
   },
   "outputs": [],
   "source": [
    "basic_xgb_params = {\n",
    "    'objective': 'reg:linear',\n",
    "    'eta': 0.1,\n",
    "    'seed': 2018\n",
    "}"
   ]
  },
  {
   "cell_type": "code",
   "execution_count": 18,
   "metadata": {
    "collapsed": true
   },
   "outputs": [],
   "source": [
    "search_xgb_params = {\n",
    "    'max_depth': [4, 8, 12, 16, 20, 24, 28, 32],\n",
    "    'gamma': [0, 0.1, 0.2, 0.5, 1, 1.5, 2, 3],\n",
    "    'colsample_bytree': [0.1, 0.2, 0.4, 0.6, 0.8, 1],\n",
    "    'subsample': [0.1, 0.2, 0.4, 0.6, 0.8, 1],\n",
    "    'min_child_weight': [0, 1, 3, 10, 20, 30, 50, 100]\n",
    "}"
   ]
  },
  {
   "cell_type": "code",
   "execution_count": 19,
   "metadata": {
    "scrolled": false
   },
   "outputs": [
    {
     "name": "stdout",
     "output_type": "stream",
     "text": [
      "Tuning parameter max_depth, range: [4, 8, 12, 16, 20, 24, 28, 32]\n",
      "    max_depth=4: best_score=0.490789, best_iter=71\n",
      "    max_depth=8: best_score=0.51696, best_iter=71\n",
      "    max_depth=12: best_score=0.537223, best_iter=56\n",
      "    max_depth=16: best_score=0.559336, best_iter=46\n",
      "    max_depth=20: best_score=0.57631, best_iter=47\n",
      "    max_depth=24: best_score=0.593558, best_iter=45\n",
      "    max_depth=28: best_score=0.601077, best_iter=53\n",
      "    max_depth=32: best_score=0.603654, best_iter=55\n",
      "  Best value for max_depth: 4 (score 0.490789)\n",
      "Tuning parameter gamma, range: [0, 0.1, 0.2, 0.5, 1, 1.5, 2, 3]\n",
      "    gamma=0: best_score=0.490789, best_iter=71\n",
      "    gamma=0.1: best_score=0.49079, best_iter=71\n",
      "    gamma=0.2: best_score=0.49079, best_iter=71\n",
      "    gamma=0.5: best_score=0.490786, best_iter=71\n",
      "    gamma=1: best_score=0.490757, best_iter=71\n",
      "    gamma=1.5: best_score=0.490311, best_iter=81\n",
      "    gamma=2: best_score=0.490234, best_iter=84\n",
      "    gamma=3: best_score=0.490999, best_iter=81\n",
      "  Best value for gamma: 2 (score 0.490234)\n",
      "Tuning parameter colsample_bytree, range: [0.1, 0.2, 0.4, 0.6, 0.8, 1]\n",
      "    colsample_bytree=0.1: best_score=0.494477, best_iter=214\n",
      "    colsample_bytree=0.2: best_score=0.490227, best_iter=157\n",
      "    colsample_bytree=0.4: best_score=0.488957, best_iter=86\n",
      "    colsample_bytree=0.6: best_score=0.490959, best_iter=51\n",
      "    colsample_bytree=0.8: best_score=0.494776, best_iter=52\n",
      "    colsample_bytree=1: best_score=0.490234, best_iter=84\n",
      "  Best value for colsample_bytree: 0.4 (score 0.488957)\n",
      "Tuning parameter subsample, range: [0.1, 0.2, 0.4, 0.6, 0.8, 1]\n",
      "    subsample=0.1: best_score=0.490933, best_iter=106\n",
      "    subsample=0.2: best_score=0.49032, best_iter=164\n",
      "    subsample=0.4: best_score=0.490633, best_iter=66\n",
      "    subsample=0.6: best_score=0.489538, best_iter=100\n",
      "    subsample=0.8: best_score=0.490903, best_iter=157\n",
      "    subsample=1: best_score=0.488957, best_iter=86\n",
      "  Best value for subsample: 1 (score 0.488957)\n",
      "Tuning parameter min_child_weight, range: [0, 1, 3, 10, 20, 30, 50, 100]\n",
      "    min_child_weight=0: best_score=0.488957, best_iter=86\n",
      "    min_child_weight=1: best_score=0.488957, best_iter=86\n",
      "    min_child_weight=3: best_score=0.488967, best_iter=86\n",
      "    min_child_weight=10: best_score=0.488377, best_iter=128\n",
      "    min_child_weight=20: best_score=0.488173, best_iter=162\n",
      "    min_child_weight=30: best_score=0.488154, best_iter=162\n",
      "    min_child_weight=50: best_score=0.488542, best_iter=144\n",
      "    min_child_weight=100: best_score=0.488012, best_iter=190\n",
      "  Best value for min_child_weight: 100 (score 0.488012)\n",
      "{'objective': 'reg:linear', 'eta': 0.1, 'seed': 2018, 'max_depth': 4, 'gamma': 2, 'colsample_bytree': 0.4, 'subsample': 1, 'min_child_weight': 100}\n",
      "Wall time: 5min 34s\n"
     ]
    }
   ],
   "source": [
    "%%time\n",
    "\n",
    "best_params = basic_xgb_params.copy()\n",
    "# start best_params with the basic params, \n",
    "# in each round, choose the best param found\n",
    "# and add to best_params\n",
    "\n",
    "for p in search_xgb_params:    # tune one parameter at each iteration, other parameters use default\n",
    "    print('Tuning parameter {}, range: {}'.format(p, search_xgb_params[p]))\n",
    "    test_params = best_params\n",
    "    scores = []\n",
    "    \n",
    "    for v in search_xgb_params[p]:    # go thru each value of the parameter we're testing\n",
    "        test_params[p] = v\n",
    "        test_model = xgb.train(params=test_params, \n",
    "                               dtrain=train_dmatrix, \n",
    "                               num_boost_round=100000, \n",
    "                               evals=eval_setting,\n",
    "                               early_stopping_rounds=50,\n",
    "                               verbose_eval=False\n",
    "                              )\n",
    "        best_iter = test_model.best_iteration\n",
    "        best_score = test_model.best_score\n",
    "        scores.append([v, best_score])\n",
    "        print('    {p}={v}: best_score={s}, best_iter={it}'.format(p=p, v=v, s=best_score, it=best_iter))\n",
    "        \n",
    "    scores.sort(key=lambda x: x[1])\n",
    "    best_value = scores[0][0]\n",
    "    best_score = scores[0][1]\n",
    "    best_params[p] = best_value\n",
    "    print('  Best value for {p}: {v} (score {s})'.format(p=p, v=best_value, s=best_score))\n",
    "        \n",
    "print(best_params)"
   ]
  },
  {
   "cell_type": "markdown",
   "metadata": {
    "collapsed": true
   },
   "source": [
    "## XGBoost Auto Tuning"
   ]
  },
  {
   "cell_type": "code",
   "execution_count": 37,
   "metadata": {
    "collapsed": true
   },
   "outputs": [],
   "source": [
    "from bayes_opt import BayesianOptimization"
   ]
  },
  {
   "cell_type": "code",
   "execution_count": 38,
   "metadata": {
    "collapsed": true
   },
   "outputs": [],
   "source": [
    "def xgb_evaluate(min_child_weight, colsample_bytree, max_depth, subsample, gamma):\n",
    "    params = {\n",
    "        'objective': 'reg:linear',\n",
    "        'eta': 0.1,\n",
    "        'seed': 2018,\n",
    "        'max_depth': int(max_depth),\n",
    "        'min_child_weight': int(min_child_weight),\n",
    "        'colsample_bytree': colsample_bytree,\n",
    "        'subsample': subsample,\n",
    "        'gamma': gamma\n",
    "    }\n",
    "    \n",
    "    m = xgb.train(params=params, \n",
    "                  dtrain=train_dmatrix, \n",
    "                  num_boost_round=100000, \n",
    "                  evals=eval_setting,\n",
    "                  early_stopping_rounds=50,\n",
    "                  verbose_eval=False\n",
    "                 )\n",
    "    best_iter = m.best_iteration\n",
    "    best_score= m.best_score\n",
    "    return -best_score"
   ]
  },
  {
   "cell_type": "code",
   "execution_count": 39,
   "metadata": {
    "collapsed": true
   },
   "outputs": [],
   "source": [
    "xgb_BayesOpt = BayesianOptimization(f=xgb_evaluate, \n",
    "                                    pbounds={\n",
    "                                        'max_depth': (3,10),\n",
    "                                        'min_child_weight': (80, 120),\n",
    "                                        'colsample_bytree': (0.2, 0.8),\n",
    "                                        'subsample': (0.7, 1),\n",
    "                                        'gamma': (0, 5)\n",
    "                                    })"
   ]
  },
  {
   "cell_type": "code",
   "execution_count": 40,
   "metadata": {
    "scrolled": false
   },
   "outputs": [
    {
     "name": "stdout",
     "output_type": "stream",
     "text": [
      "\u001b[31mInitialization\u001b[0m\n",
      "\u001b[94m---------------------------------------------------------------------------------------------------------------\u001b[0m\n",
      " Step |   Time |      Value |   colsample_bytree |     gamma |   max_depth |   min_child_weight |   subsample | \n",
      "    1 | 00m07s | \u001b[35m  -0.48737\u001b[0m | \u001b[32m            0.7532\u001b[0m | \u001b[32m   1.1945\u001b[0m | \u001b[32m     4.4640\u001b[0m | \u001b[32m           95.5622\u001b[0m | \u001b[32m     0.8653\u001b[0m | \n",
      "    2 | 00m05s |   -0.48744 |             0.4021 |    0.3738 |      4.0390 |           102.8012 |      0.7919 | \n",
      "    3 | 00m04s |   -0.48816 |             0.3474 |    0.0075 |      5.6124 |            81.2147 |      0.8769 | \n",
      "    4 | 00m06s |   -0.48801 |             0.4275 |    3.4792 |      7.1607 |           108.5971 |      0.7754 | \n",
      "    5 | 00m06s |   -0.48755 |             0.7031 |    2.9267 |      4.4926 |           116.9816 |      0.8347 | \n",
      "    6 | 00m06s | \u001b[35m  -0.48723\u001b[0m | \u001b[32m            0.7890\u001b[0m | \u001b[32m   2.1800\u001b[0m | \u001b[32m     7.1604\u001b[0m | \u001b[32m           92.2691\u001b[0m | \u001b[32m     0.8894\u001b[0m | \n",
      "    7 | 00m05s |   -0.48736 |             0.4555 |    1.7771 |      6.1589 |            98.6945 |      0.8328 | \n",
      "    8 | 00m07s |   -0.48772 |             0.7326 |    4.3680 |      8.5532 |           102.5903 |      0.8472 | \n"
     ]
    },
    {
     "name": "stderr",
     "output_type": "stream",
     "text": [
      "C:\\ProgramData\\Anaconda3\\lib\\site-packages\\sklearn\\gaussian_process\\gpr.py:335: UserWarning: Predicted variances smaller than 0. Setting those variances to 0.\n",
      "  warnings.warn(\"Predicted variances smaller than 0. \"\n"
     ]
    },
    {
     "name": "stdout",
     "output_type": "stream",
     "text": [
      "\u001b[31mBayesian Optimization\u001b[0m\n",
      "\u001b[94m---------------------------------------------------------------------------------------------------------------\u001b[0m\n",
      " Step |   Time |      Value |   colsample_bytree |     gamma |   max_depth |   min_child_weight |   subsample | \n",
      "    9 | 00m14s |   -0.48980 |             0.3616 |    0.2111 |      9.9839 |           119.8397 |      0.9702 | \n"
     ]
    },
    {
     "name": "stderr",
     "output_type": "stream",
     "text": [
      "C:\\ProgramData\\Anaconda3\\lib\\site-packages\\sklearn\\gaussian_process\\gpr.py:457: UserWarning: fmin_l_bfgs_b terminated abnormally with the  state: {'grad': array([ -1.27965905e-05]), 'task': b'ABNORMAL_TERMINATION_IN_LNSRCH', 'funcalls': 52, 'nit': 4, 'warnflag': 2}\n",
      "  \" state: %s\" % convergence_dict)\n"
     ]
    },
    {
     "name": "stdout",
     "output_type": "stream",
     "text": [
      "   10 | 00m21s |   -0.48845 |             0.2759 |    4.9324 |      3.8831 |            81.2472 |      0.9608 | \n",
      "   11 | 00m22s |   -0.48881 |             0.2075 |    4.8528 |      3.2559 |           116.6427 |      0.9984 | \n",
      "   12 | 00m19s |   -0.48729 |             0.6664 |    4.9332 |      9.9263 |            81.3907 |      0.7118 | \n"
     ]
    },
    {
     "name": "stderr",
     "output_type": "stream",
     "text": [
      "C:\\ProgramData\\Anaconda3\\lib\\site-packages\\sklearn\\gaussian_process\\gpr.py:457: UserWarning: fmin_l_bfgs_b terminated abnormally with the  state: {'grad': array([ -1.75826681e-05]), 'task': b'ABNORMAL_TERMINATION_IN_LNSRCH', 'funcalls': 54, 'nit': 4, 'warnflag': 2}\n",
      "  \" state: %s\" % convergence_dict)\n"
     ]
    },
    {
     "name": "stdout",
     "output_type": "stream",
     "text": [
      "   13 | 00m15s |   -0.48764 |             0.4272 |    0.5250 |      3.2017 |           119.9855 |      0.7000 | \n",
      "   14 | 00m18s |   -0.48891 |             0.7352 |    0.0267 |      9.6954 |            99.1570 |      0.7168 | \n",
      "   15 | 00m17s |   -0.48757 |             0.7377 |    0.1098 |      4.0187 |           112.8474 |      0.9968 | \n",
      "   16 | 00m19s |   -0.48817 |             0.7804 |    4.7214 |      3.5296 |           100.5519 |      0.7008 | \n"
     ]
    },
    {
     "name": "stderr",
     "output_type": "stream",
     "text": [
      "C:\\ProgramData\\Anaconda3\\lib\\site-packages\\sklearn\\gaussian_process\\gpr.py:457: UserWarning: fmin_l_bfgs_b terminated abnormally with the  state: {'grad': array([ -6.30617878e-05]), 'task': b'ABNORMAL_TERMINATION_IN_LNSRCH', 'funcalls': 53, 'nit': 4, 'warnflag': 2}\n",
      "  \" state: %s\" % convergence_dict)\n"
     ]
    },
    {
     "name": "stdout",
     "output_type": "stream",
     "text": [
      "   17 | 00m18s |   -0.49375 |             0.2039 |    4.8107 |      9.5086 |            88.6977 |      0.7446 | \n",
      "   18 | 00m21s |   -0.48837 |             0.7464 |    0.0384 |      9.5476 |            80.0878 |      0.9880 | \n",
      "   19 | 00m22s |   -0.48766 |             0.7558 |    3.0163 |      3.9771 |            80.0063 |      0.7349 | \n",
      "   20 | 00m23s | \u001b[35m  -0.48697\u001b[0m | \u001b[32m            0.7387\u001b[0m | \u001b[32m   4.5002\u001b[0m | \u001b[32m     5.7252\u001b[0m | \u001b[32m          119.9611\u001b[0m | \u001b[32m     0.9827\u001b[0m | \n",
      "   21 | 00m21s |   -0.48789 |             0.7984 |    4.5333 |      7.1526 |            80.2384 |      0.9777 | \n"
     ]
    },
    {
     "name": "stderr",
     "output_type": "stream",
     "text": [
      "C:\\ProgramData\\Anaconda3\\lib\\site-packages\\sklearn\\gaussian_process\\gpr.py:457: UserWarning: fmin_l_bfgs_b terminated abnormally with the  state: {'grad': array([ -8.99979204e-05]), 'task': b'ABNORMAL_TERMINATION_IN_LNSRCH', 'funcalls': 56, 'nit': 7, 'warnflag': 2}\n",
      "  \" state: %s\" % convergence_dict)\n",
      "C:\\ProgramData\\Anaconda3\\lib\\site-packages\\sklearn\\gaussian_process\\gpr.py:457: UserWarning: fmin_l_bfgs_b terminated abnormally with the  state: {'grad': array([  3.08018061e-05]), 'task': b'ABNORMAL_TERMINATION_IN_LNSRCH', 'funcalls': 53, 'nit': 6, 'warnflag': 2}\n",
      "  \" state: %s\" % convergence_dict)\n"
     ]
    },
    {
     "name": "stdout",
     "output_type": "stream",
     "text": [
      "   22 | 00m21s |   -0.48783 |             0.7659 |    1.0555 |      3.1502 |            85.8864 |      0.7183 | \n",
      "   23 | 00m21s |   -0.48856 |             0.4653 |    4.8807 |      9.7583 |           119.9905 |      0.7804 | \n"
     ]
    },
    {
     "name": "stderr",
     "output_type": "stream",
     "text": [
      "C:\\ProgramData\\Anaconda3\\lib\\site-packages\\sklearn\\gaussian_process\\gpr.py:457: UserWarning: fmin_l_bfgs_b terminated abnormally with the  state: {'grad': array([ 0.00023805]), 'task': b'ABNORMAL_TERMINATION_IN_LNSRCH', 'funcalls': 56, 'nit': 5, 'warnflag': 2}\n",
      "  \" state: %s\" % convergence_dict)\n"
     ]
    },
    {
     "name": "stdout",
     "output_type": "stream",
     "text": [
      "   24 | 00m23s |   -0.48803 |             0.7884 |    3.5915 |      3.2183 |           106.3091 |      0.9938 | \n",
      "   25 | 00m21s |   -0.48764 |             0.7119 |    0.0366 |      6.9984 |            89.2615 |      0.7032 | \n",
      "   26 | 00m18s |   -0.49521 |             0.2018 |    3.6823 |      9.8187 |            80.1442 |      0.7550 | \n",
      "   27 | 00m21s |   -0.48786 |             0.7671 |    0.3592 |      3.4330 |            80.1691 |      0.9842 | \n",
      "   28 | 00m23s |   -0.48720 |             0.7839 |    4.8659 |      5.7430 |            85.3448 |      0.7318 | \n"
     ]
    },
    {
     "name": "stderr",
     "output_type": "stream",
     "text": [
      "C:\\ProgramData\\Anaconda3\\lib\\site-packages\\sklearn\\gaussian_process\\gpr.py:457: UserWarning: fmin_l_bfgs_b terminated abnormally with the  state: {'grad': array([ -9.95366327e-05]), 'task': b'ABNORMAL_TERMINATION_IN_LNSRCH', 'funcalls': 56, 'nit': 5, 'warnflag': 2}\n",
      "  \" state: %s\" % convergence_dict)\n"
     ]
    },
    {
     "name": "stdout",
     "output_type": "stream",
     "text": [
      "   29 | 00m23s |   -0.48805 |             0.7829 |    4.8735 |      9.7408 |           114.2469 |      0.9972 | \n",
      "   30 | 00m22s |   -0.48810 |             0.7952 |    0.1049 |      9.8114 |            84.5437 |      0.8956 | \n",
      "   31 | 00m29s |   -0.48771 |             0.7778 |    4.9412 |      9.4277 |            96.9391 |      0.7658 | \n",
      "   32 | 00m18s |   -0.48916 |             0.2364 |    0.0487 |      5.0405 |           119.6606 |      0.9845 | \n",
      "   33 | 00m21s |   -0.48759 |             0.7807 |    0.0316 |      9.5049 |           110.9471 |      0.7683 | \n",
      "   34 | 00m21s |   -0.48797 |             0.7632 |    4.9131 |      4.9758 |           112.8323 |      0.7078 | \n",
      "   35 | 00m21s |   -0.48759 |             0.7972 |    0.0628 |      7.3818 |           106.1568 |      0.9497 | \n",
      "   36 | 00m23s |   -0.48788 |             0.8000 |    4.9320 |      3.7381 |            80.8362 |      0.7188 | \n",
      "   37 | 00m23s |   -0.48839 |             0.2839 |    4.8378 |      3.0516 |           119.8832 |      0.7109 | \n"
     ]
    },
    {
     "name": "stderr",
     "output_type": "stream",
     "text": [
      "C:\\ProgramData\\Anaconda3\\lib\\site-packages\\sklearn\\gaussian_process\\gpr.py:457: UserWarning: fmin_l_bfgs_b terminated abnormally with the  state: {'grad': array([ -8.02685972e-05]), 'task': b'ABNORMAL_TERMINATION_IN_LNSRCH', 'funcalls': 56, 'nit': 6, 'warnflag': 2}\n",
      "  \" state: %s\" % convergence_dict)\n"
     ]
    },
    {
     "name": "stdout",
     "output_type": "stream",
     "text": [
      "   38 | 00m25s |   -0.48880 |             0.2257 |    4.7743 |      3.1772 |            93.0617 |      0.8689 | \n"
     ]
    },
    {
     "name": "stderr",
     "output_type": "stream",
     "text": [
      "C:\\ProgramData\\Anaconda3\\lib\\site-packages\\sklearn\\gaussian_process\\gpr.py:457: UserWarning: fmin_l_bfgs_b terminated abnormally with the  state: {'grad': array([-0.00136222]), 'task': b'ABNORMAL_TERMINATION_IN_LNSRCH', 'funcalls': 55, 'nit': 4, 'warnflag': 2}\n",
      "  \" state: %s\" % convergence_dict)\n"
     ]
    },
    {
     "name": "stdout",
     "output_type": "stream",
     "text": [
      "   39 | 00m21s |   -0.48845 |             0.2266 |    0.1934 |      3.1897 |           108.3066 |      0.7582 | \n",
      "   40 | 00m22s |   -0.48758 |             0.7993 |    0.2968 |      8.3858 |           119.4530 |      0.7007 | \n"
     ]
    },
    {
     "name": "stderr",
     "output_type": "stream",
     "text": [
      "C:\\ProgramData\\Anaconda3\\lib\\site-packages\\sklearn\\gaussian_process\\gpr.py:457: UserWarning: fmin_l_bfgs_b terminated abnormally with the  state: {'grad': array([-0.0002904]), 'task': b'ABNORMAL_TERMINATION_IN_LNSRCH', 'funcalls': 54, 'nit': 5, 'warnflag': 2}\n",
      "  \" state: %s\" % convergence_dict)\n"
     ]
    },
    {
     "name": "stdout",
     "output_type": "stream",
     "text": [
      "   41 | 00m24s |   -0.48728 |             0.7776 |    4.9754 |      9.6473 |            83.9095 |      0.9579 | \n"
     ]
    },
    {
     "name": "stderr",
     "output_type": "stream",
     "text": [
      "C:\\ProgramData\\Anaconda3\\lib\\site-packages\\sklearn\\gaussian_process\\gpr.py:457: UserWarning: fmin_l_bfgs_b terminated abnormally with the  state: {'grad': array([ 0.00086765]), 'task': b'ABNORMAL_TERMINATION_IN_LNSRCH', 'funcalls': 55, 'nit': 6, 'warnflag': 2}\n",
      "  \" state: %s\" % convergence_dict)\n",
      "C:\\ProgramData\\Anaconda3\\lib\\site-packages\\sklearn\\gaussian_process\\gpr.py:457: UserWarning: fmin_l_bfgs_b terminated abnormally with the  state: {'grad': array([ -9.44747298e-05]), 'task': b'ABNORMAL_TERMINATION_IN_LNSRCH', 'funcalls': 48, 'nit': 4, 'warnflag': 2}\n",
      "  \" state: %s\" % convergence_dict)\n"
     ]
    },
    {
     "name": "stdout",
     "output_type": "stream",
     "text": [
      "   42 | 00m20s |   -0.48743 |             0.7916 |    0.4879 |      5.5375 |            82.8915 |      0.7068 | \n",
      "   43 | 00m21s |   -0.48852 |             0.2249 |    0.0854 |      3.0288 |            91.3948 |      0.9515 | \n"
     ]
    },
    {
     "name": "stderr",
     "output_type": "stream",
     "text": [
      "C:\\ProgramData\\Anaconda3\\lib\\site-packages\\sklearn\\gaussian_process\\gpr.py:457: UserWarning: fmin_l_bfgs_b terminated abnormally with the  state: {'grad': array([-0.00019312]), 'task': b'ABNORMAL_TERMINATION_IN_LNSRCH', 'funcalls': 52, 'nit': 5, 'warnflag': 2}\n",
      "  \" state: %s\" % convergence_dict)\n",
      "C:\\ProgramData\\Anaconda3\\lib\\site-packages\\sklearn\\gaussian_process\\gpr.py:457: UserWarning: fmin_l_bfgs_b terminated abnormally with the  state: {'grad': array([  8.93314136e-05]), 'task': b'ABNORMAL_TERMINATION_IN_LNSRCH', 'funcalls': 57, 'nit': 5, 'warnflag': 2}\n",
      "  \" state: %s\" % convergence_dict)\n"
     ]
    },
    {
     "name": "stdout",
     "output_type": "stream",
     "text": [
      "   44 | 00m25s |   -0.48735 |             0.7914 |    4.6294 |      9.8351 |           108.7833 |      0.7248 | \n"
     ]
    },
    {
     "name": "stderr",
     "output_type": "stream",
     "text": [
      "C:\\ProgramData\\Anaconda3\\lib\\site-packages\\sklearn\\gaussian_process\\gpr.py:457: UserWarning: fmin_l_bfgs_b terminated abnormally with the  state: {'grad': array([ 0.00037127]), 'task': b'ABNORMAL_TERMINATION_IN_LNSRCH', 'funcalls': 56, 'nit': 8, 'warnflag': 2}\n",
      "  \" state: %s\" % convergence_dict)\n"
     ]
    },
    {
     "name": "stdout",
     "output_type": "stream",
     "text": [
      "   45 | 00m23s |   -0.48826 |             0.7370 |    0.0590 |      9.8856 |            92.5491 |      0.8380 | \n"
     ]
    },
    {
     "name": "stderr",
     "output_type": "stream",
     "text": [
      "C:\\ProgramData\\Anaconda3\\lib\\site-packages\\sklearn\\gaussian_process\\gpr.py:457: UserWarning: fmin_l_bfgs_b terminated abnormally with the  state: {'grad': array([-0.00106304]), 'task': b'ABNORMAL_TERMINATION_IN_LNSRCH', 'funcalls': 52, 'nit': 5, 'warnflag': 2}\n",
      "  \" state: %s\" % convergence_dict)\n"
     ]
    },
    {
     "name": "stdout",
     "output_type": "stream",
     "text": [
      "   46 | 00m22s |   -0.48768 |             0.7888 |    3.3866 |      9.5119 |           119.8938 |      0.9746 | \n",
      "   47 | 00m24s |   -0.48753 |             0.7824 |    4.8822 |      6.2632 |           105.7364 |      0.7501 | \n",
      "   48 | 00m21s |   -0.48698 |             0.7987 |    2.1645 |      5.7546 |           103.6166 |      0.7271 | \n",
      "   49 | 00m21s |   -0.48733 |             0.7426 |    4.9548 |      5.9312 |            97.3191 |      0.9780 | \n",
      "   50 | 00m23s |   -0.48792 |             0.7990 |    0.0117 |      3.0649 |           119.3412 |      0.8772 | \n"
     ]
    }
   ],
   "source": [
    "xgb_BayesOpt.maximize(init_points=8, n_iter=42)"
   ]
  },
  {
   "cell_type": "code",
   "execution_count": 53,
   "metadata": {
    "collapsed": true
   },
   "outputs": [],
   "source": [
    "xgb_test_params = pd.DataFrame(xgb_BayesOpt.res['all']['params'])\n",
    "xgb_test_params['score'] = np.negative(xgb_BayesOpt.res['all']['values'])\n",
    "xgb_test_params.sort_values(by='score', inplace=True)"
   ]
  },
  {
   "cell_type": "code",
   "execution_count": 58,
   "metadata": {},
   "outputs": [
    {
     "data": {
      "text/plain": [
       "{'colsample_bytree': 0.36157415502133555,\n",
       " 'gamma': 0.21107436602789964,\n",
       " 'max_depth': 9.9838780872348316,\n",
       " 'min_child_weight': 119.8396995179726,\n",
       " 'subsample': 0.9702118748217563}"
      ]
     },
     "execution_count": 58,
     "metadata": {},
     "output_type": "execute_result"
    }
   ],
   "source": [
    "xgb_test_params.loc[0,:].drop('score').to_dict()"
   ]
  },
  {
   "cell_type": "code",
   "execution_count": 60,
   "metadata": {
    "scrolled": false
   },
   "outputs": [
    {
     "data": {
      "text/plain": [
       "{'all': {'params': [{'colsample_bytree': 0.36157415502133555,\n",
       "    'gamma': 0.21107436602789964,\n",
       "    'max_depth': 9.9838780872348316,\n",
       "    'min_child_weight': 119.8396995179726,\n",
       "    'subsample': 0.9702118748217563},\n",
       "   {'colsample_bytree': 0.27592872895384901,\n",
       "    'gamma': 4.932414410836051,\n",
       "    'max_depth': 3.8831330213325899,\n",
       "    'min_child_weight': 81.247168455196146,\n",
       "    'subsample': 0.96076411415733309},\n",
       "   {'colsample_bytree': 0.20747511816149714,\n",
       "    'gamma': 4.8527886544921195,\n",
       "    'max_depth': 3.2559037070760666,\n",
       "    'min_child_weight': 116.64271308380299,\n",
       "    'subsample': 0.99841794387399774},\n",
       "   {'colsample_bytree': 0.66640132584403777,\n",
       "    'gamma': 4.9331883659353535,\n",
       "    'max_depth': 9.9263472088686022,\n",
       "    'min_child_weight': 81.390652864711086,\n",
       "    'subsample': 0.71182134393065932},\n",
       "   {'colsample_bytree': 0.42720598254725395,\n",
       "    'gamma': 0.52497620613009055,\n",
       "    'max_depth': 3.2016586635488156,\n",
       "    'min_child_weight': 119.98553211181553,\n",
       "    'subsample': 0.70004716237013132},\n",
       "   {'colsample_bytree': 0.73519422729341666,\n",
       "    'gamma': 0.026684745109714081,\n",
       "    'max_depth': 9.6954150146552927,\n",
       "    'min_child_weight': 99.157039542299756,\n",
       "    'subsample': 0.71683808273216643},\n",
       "   {'colsample_bytree': 0.73773577984413885,\n",
       "    'gamma': 0.10975717227209802,\n",
       "    'max_depth': 4.0186776127072728,\n",
       "    'min_child_weight': 112.84739687419517,\n",
       "    'subsample': 0.99677489201285296},\n",
       "   {'colsample_bytree': 0.78041975794551344,\n",
       "    'gamma': 4.7213521086380288,\n",
       "    'max_depth': 3.5296464283002491,\n",
       "    'min_child_weight': 100.55186131834854,\n",
       "    'subsample': 0.7008174183125051},\n",
       "   {'colsample_bytree': 0.20386093107481457,\n",
       "    'gamma': 4.8107161081363472,\n",
       "    'max_depth': 9.5086296242404025,\n",
       "    'min_child_weight': 88.697746308478145,\n",
       "    'subsample': 0.74455345028806774},\n",
       "   {'colsample_bytree': 0.74644351294271916,\n",
       "    'gamma': 0.03840353838996502,\n",
       "    'max_depth': 9.5476315915785559,\n",
       "    'min_child_weight': 80.087767670900504,\n",
       "    'subsample': 0.98804566693032569},\n",
       "   {'colsample_bytree': 0.75582661481544466,\n",
       "    'gamma': 3.016329849723177,\n",
       "    'max_depth': 3.9770938979091013,\n",
       "    'min_child_weight': 80.006329627321676,\n",
       "    'subsample': 0.73487275635014493},\n",
       "   {'colsample_bytree': 0.73871440001327593,\n",
       "    'gamma': 4.5001749041836367,\n",
       "    'max_depth': 5.725243211431521,\n",
       "    'min_child_weight': 119.96105648686279,\n",
       "    'subsample': 0.98272439196814976},\n",
       "   {'colsample_bytree': 0.79835305194959427,\n",
       "    'gamma': 4.5333294941532394,\n",
       "    'max_depth': 7.1526271717675582,\n",
       "    'min_child_weight': 80.238413660454853,\n",
       "    'subsample': 0.97767172449980067},\n",
       "   {'colsample_bytree': 0.76589465949255442,\n",
       "    'gamma': 1.055539085689271,\n",
       "    'max_depth': 3.1502488308601184,\n",
       "    'min_child_weight': 85.886378725770186,\n",
       "    'subsample': 0.71829130863529689},\n",
       "   {'colsample_bytree': 0.46528531889367969,\n",
       "    'gamma': 4.8807047681691653,\n",
       "    'max_depth': 9.7583316322197131,\n",
       "    'min_child_weight': 119.99047072272211,\n",
       "    'subsample': 0.78036369547891815},\n",
       "   {'colsample_bytree': 0.78844368980249713,\n",
       "    'gamma': 3.5915363520751664,\n",
       "    'max_depth': 3.2183391393513308,\n",
       "    'min_child_weight': 106.30913237684015,\n",
       "    'subsample': 0.99383507346744526},\n",
       "   {'colsample_bytree': 0.71191613966386247,\n",
       "    'gamma': 0.036611991039924296,\n",
       "    'max_depth': 6.9983729444436067,\n",
       "    'min_child_weight': 89.261483889498436,\n",
       "    'subsample': 0.70324788122931259},\n",
       "   {'colsample_bytree': 0.20175341862944429,\n",
       "    'gamma': 3.6823146058951255,\n",
       "    'max_depth': 9.8187382142176549,\n",
       "    'min_child_weight': 80.144160640484245,\n",
       "    'subsample': 0.7550317550279726},\n",
       "   {'colsample_bytree': 0.76708319343698927,\n",
       "    'gamma': 0.35917489347579767,\n",
       "    'max_depth': 3.4330049032442029,\n",
       "    'min_child_weight': 80.169113401392195,\n",
       "    'subsample': 0.98418986995253599},\n",
       "   {'colsample_bytree': 0.78393821155369725,\n",
       "    'gamma': 4.8659015969456973,\n",
       "    'max_depth': 5.7430292120072108,\n",
       "    'min_child_weight': 85.344786566719677,\n",
       "    'subsample': 0.73183055416095077},\n",
       "   {'colsample_bytree': 0.78290052043660352,\n",
       "    'gamma': 4.8735169834271259,\n",
       "    'max_depth': 9.7407722161127488,\n",
       "    'min_child_weight': 114.24694011361333,\n",
       "    'subsample': 0.99721264201014936},\n",
       "   {'colsample_bytree': 0.7952476036210856,\n",
       "    'gamma': 0.10492438969464835,\n",
       "    'max_depth': 9.8113935811533146,\n",
       "    'min_child_weight': 84.543673245219608,\n",
       "    'subsample': 0.89559260950422648},\n",
       "   {'colsample_bytree': 0.77777819703427675,\n",
       "    'gamma': 4.9411877112499463,\n",
       "    'max_depth': 9.4277466063691087,\n",
       "    'min_child_weight': 96.939110157308818,\n",
       "    'subsample': 0.76582036688574184},\n",
       "   {'colsample_bytree': 0.23637905094508477,\n",
       "    'gamma': 0.048732514124945614,\n",
       "    'max_depth': 5.0404668080684214,\n",
       "    'min_child_weight': 119.66060716971027,\n",
       "    'subsample': 0.98447265487980884},\n",
       "   {'colsample_bytree': 0.78070431015536168,\n",
       "    'gamma': 0.031608166751658229,\n",
       "    'max_depth': 9.5048795717807657,\n",
       "    'min_child_weight': 110.94711696636196,\n",
       "    'subsample': 0.76829380884658205},\n",
       "   {'colsample_bytree': 0.76324330200617307,\n",
       "    'gamma': 4.9130654363770132,\n",
       "    'max_depth': 4.9758267267652752,\n",
       "    'min_child_weight': 112.83230280889934,\n",
       "    'subsample': 0.70778627337133027},\n",
       "   {'colsample_bytree': 0.79718683570630255,\n",
       "    'gamma': 0.062775384913805188,\n",
       "    'max_depth': 7.3817943082221058,\n",
       "    'min_child_weight': 106.15679819943689,\n",
       "    'subsample': 0.94972843145074848},\n",
       "   {'colsample_bytree': 0.79997028220371069,\n",
       "    'gamma': 4.9319839102337042,\n",
       "    'max_depth': 3.7380566942349525,\n",
       "    'min_child_weight': 80.836166278899896,\n",
       "    'subsample': 0.71877255276738472},\n",
       "   {'colsample_bytree': 0.2838689194475118,\n",
       "    'gamma': 4.837779324718583,\n",
       "    'max_depth': 3.0515525460322541,\n",
       "    'min_child_weight': 119.88320678313821,\n",
       "    'subsample': 0.71086156773205056},\n",
       "   {'colsample_bytree': 0.22566884143365645,\n",
       "    'gamma': 4.7742904173903984,\n",
       "    'max_depth': 3.1771670095623112,\n",
       "    'min_child_weight': 93.061672222450255,\n",
       "    'subsample': 0.8689127700715491},\n",
       "   {'colsample_bytree': 0.22655727817435747,\n",
       "    'gamma': 0.19343877091285044,\n",
       "    'max_depth': 3.1896617449970837,\n",
       "    'min_child_weight': 108.30662370981983,\n",
       "    'subsample': 0.75816342742380516},\n",
       "   {'colsample_bytree': 0.79931122213772943,\n",
       "    'gamma': 0.29684083655751092,\n",
       "    'max_depth': 8.3857915595151766,\n",
       "    'min_child_weight': 119.45299946432993,\n",
       "    'subsample': 0.70073600674115266},\n",
       "   {'colsample_bytree': 0.77759371297573421,\n",
       "    'gamma': 4.975400352689598,\n",
       "    'max_depth': 9.6472562179342987,\n",
       "    'min_child_weight': 83.90949977143319,\n",
       "    'subsample': 0.95786474129882893},\n",
       "   {'colsample_bytree': 0.7916396717746621,\n",
       "    'gamma': 0.48792358375694789,\n",
       "    'max_depth': 5.5374665476720288,\n",
       "    'min_child_weight': 82.891471959131707,\n",
       "    'subsample': 0.70679205966162584},\n",
       "   {'colsample_bytree': 0.22489506741000542,\n",
       "    'gamma': 0.085430960643714249,\n",
       "    'max_depth': 3.0288231582128002,\n",
       "    'min_child_weight': 91.394770002572415,\n",
       "    'subsample': 0.95152957453286136},\n",
       "   {'colsample_bytree': 0.79139724823346946,\n",
       "    'gamma': 4.6294179458365399,\n",
       "    'max_depth': 9.8350591396361153,\n",
       "    'min_child_weight': 108.78330511920538,\n",
       "    'subsample': 0.72478123711535647},\n",
       "   {'colsample_bytree': 0.73700502917647803,\n",
       "    'gamma': 0.059001363357562564,\n",
       "    'max_depth': 9.885617038314102,\n",
       "    'min_child_weight': 92.549132283238009,\n",
       "    'subsample': 0.83799857074882644},\n",
       "   {'colsample_bytree': 0.78880125049549066,\n",
       "    'gamma': 3.3865885555009774,\n",
       "    'max_depth': 9.5118836253411452,\n",
       "    'min_child_weight': 119.89375599071143,\n",
       "    'subsample': 0.97456414610802633},\n",
       "   {'colsample_bytree': 0.78241782239585733,\n",
       "    'gamma': 4.8821785768579051,\n",
       "    'max_depth': 6.2631612202609608,\n",
       "    'min_child_weight': 105.7364187329413,\n",
       "    'subsample': 0.75008022842391042},\n",
       "   {'colsample_bytree': 0.79871800653473501,\n",
       "    'gamma': 2.1644846057534108,\n",
       "    'max_depth': 5.7545743663877706,\n",
       "    'min_child_weight': 103.61660719114539,\n",
       "    'subsample': 0.72705042260421693},\n",
       "   {'colsample_bytree': 0.74261569870825328,\n",
       "    'gamma': 4.9547755488518197,\n",
       "    'max_depth': 5.9312239160770668,\n",
       "    'min_child_weight': 97.319073053282466,\n",
       "    'subsample': 0.97803972265921368},\n",
       "   {'colsample_bytree': 0.79895703744328528,\n",
       "    'gamma': 0.01166962014923667,\n",
       "    'max_depth': 3.0649227200522828,\n",
       "    'min_child_weight': 119.3412196060027,\n",
       "    'subsample': 0.87716297806387122}],\n",
       "  'values': [-0.4898,\n",
       "   -0.488454,\n",
       "   -0.488809,\n",
       "   -0.487292,\n",
       "   -0.487645,\n",
       "   -0.488912,\n",
       "   -0.487572,\n",
       "   -0.488165,\n",
       "   -0.493755,\n",
       "   -0.488367,\n",
       "   -0.487661,\n",
       "   -0.486969,\n",
       "   -0.487886,\n",
       "   -0.487833,\n",
       "   -0.488562,\n",
       "   -0.488034,\n",
       "   -0.487636,\n",
       "   -0.495212,\n",
       "   -0.487862,\n",
       "   -0.487202,\n",
       "   -0.488049,\n",
       "   -0.488102,\n",
       "   -0.487712,\n",
       "   -0.489163,\n",
       "   -0.487587,\n",
       "   -0.487972,\n",
       "   -0.487594,\n",
       "   -0.487879,\n",
       "   -0.488392,\n",
       "   -0.488805,\n",
       "   -0.488451,\n",
       "   -0.487584,\n",
       "   -0.48728,\n",
       "   -0.487434,\n",
       "   -0.488524,\n",
       "   -0.487349,\n",
       "   -0.488256,\n",
       "   -0.48768,\n",
       "   -0.487533,\n",
       "   -0.486976,\n",
       "   -0.487326,\n",
       "   -0.48792]},\n",
       " 'max': {'max_params': {'colsample_bytree': 0.73871440001327593,\n",
       "   'gamma': 4.5001749041836367,\n",
       "   'max_depth': 5.725243211431521,\n",
       "   'min_child_weight': 119.96105648686279,\n",
       "   'subsample': 0.98272439196814976},\n",
       "  'max_val': -0.48696899999999999}}"
      ]
     },
     "execution_count": 60,
     "metadata": {},
     "output_type": "execute_result"
    }
   ],
   "source": [
    "xgb_BayesOpt.res"
   ]
  },
  {
   "cell_type": "code",
   "execution_count": null,
   "metadata": {
    "collapsed": true
   },
   "outputs": [],
   "source": []
  }
 ],
 "metadata": {
  "kernelspec": {
   "display_name": "Python 3",
   "language": "python",
   "name": "python3"
  },
  "language_info": {
   "codemirror_mode": {
    "name": "ipython",
    "version": 3
   },
   "file_extension": ".py",
   "mimetype": "text/x-python",
   "name": "python",
   "nbconvert_exporter": "python",
   "pygments_lexer": "ipython3",
   "version": "3.6.1"
  },
  "toc": {
   "nav_menu": {},
   "number_sections": true,
   "sideBar": false,
   "skip_h1_title": true,
   "toc_cell": true,
   "toc_position": {
    "height": "329px",
    "left": "1094px",
    "right": "20px",
    "top": "106.5px",
    "width": "337px"
   },
   "toc_section_display": "block",
   "toc_window_display": true
  }
 },
 "nbformat": 4,
 "nbformat_minor": 2
}
